{
 "cells": [
  {
   "cell_type": "code",
   "execution_count": 6,
   "metadata": {},
   "outputs": [
    {
     "ename": "ImportError",
     "evalue": "No module named skimage.util",
     "output_type": "error",
     "traceback": [
      "\u001b[0;31m---------------------------------------------------------------------------\u001b[0m",
      "\u001b[0;31mImportError\u001b[0m                               Traceback (most recent call last)",
      "\u001b[0;32m<ipython-input-6-1f755c3ff6d9>\u001b[0m in \u001b[0;36m<module>\u001b[0;34m()\u001b[0m\n\u001b[1;32m      1\u001b[0m \u001b[0;32mimport\u001b[0m \u001b[0mnumpy\u001b[0m \u001b[0;32mas\u001b[0m \u001b[0mnp\u001b[0m\u001b[0;34m\u001b[0m\u001b[0m\n\u001b[0;32m----> 2\u001b[0;31m \u001b[0;32mfrom\u001b[0m \u001b[0mskimage\u001b[0m\u001b[0;34m.\u001b[0m\u001b[0mutil\u001b[0m \u001b[0;32mimport\u001b[0m \u001b[0mcrop\u001b[0m\u001b[0;34m\u001b[0m\u001b[0m\n\u001b[0m\u001b[1;32m      3\u001b[0m \u001b[0;32mimport\u001b[0m \u001b[0mtifffile\u001b[0m\u001b[0;34m\u001b[0m\u001b[0m\n\u001b[1;32m      4\u001b[0m \u001b[0;32mimport\u001b[0m \u001b[0mos\u001b[0m\u001b[0;34m\u001b[0m\u001b[0m\n\u001b[1;32m      5\u001b[0m \u001b[0;32mfrom\u001b[0m \u001b[0msubprocess\u001b[0m \u001b[0;32mimport\u001b[0m \u001b[0mPopen\u001b[0m\u001b[0;34m,\u001b[0m \u001b[0mPIPE\u001b[0m\u001b[0;34m\u001b[0m\u001b[0m\n",
      "\u001b[0;31mImportError\u001b[0m: No module named skimage.util"
     ]
    }
   ],
   "source": [
    "# Process .ome.tiffs for cshift correction in Chromagnon\n",
    "#\n",
    "# 1. Convert from .ome.tiff to .tiff\n",
    "# 2. Create lists of target files and reference tiles\n",
    "# 3. Manually copy and past lists into command line to run Chromagnon screen session\n",
    "#\n",
    "# ----TO DO----\n",
    "#\n",
    "# 1. Could probably combine the lists into a dictionary and iterate through to \n",
    "#    run the whole code in Python using subprocess\n",
    "#\n",
    "# ----USAGE----\n",
    "#\n",
    "# 1. Command > screen -S cshift\n",
    "# 2. Command > conda activate chromagnon\n",
    "# 3. Command > chromagnon target_list -R reference_list -E dv\n",
    "# 4. Saves the aligned files as dv to be deconvolved in Huygens\n",
    "\n",
    "import numpy as np\n",
    "import tifffile\n",
    "import os\n",
    "\n",
    "# Get infiles\n",
    "indir = '/Volumes/bioc1301/data/20190313_AdultBrain_MB077c_CamKYFP_smFISH_learning/'\n",
    "infiles = os.listdir(indir)\n",
    "\n",
    "# Setup outdir\n",
    "if not os.path.exists(os.path.join(indir, 'aligned')):\n",
    "    os.makedirs(os.path.join(indir, 'aligned'))\n",
    "    outdir = os.path.join(indir, 'aligned')\n",
    "else: \n",
    "    print 'aligned directory already exists'\n",
    "    \n",
    "# Convert .ome.tiff to .tiff \n",
    "for file in infiles: \n",
    "    if file.endswith('.tiff'):\n",
    "        \n",
    "        file_path = os.path.join(indir, file)\n",
    "        print 'old file is:', file_path\n",
    "        out_file = os.path.join(outdir, file.split('.')[0]+'.tif')\n",
    "        \n",
    "        # change to Chromagnon and Image-J friendly format\n",
    "        im = tifffile.imread(file_path)\n",
    "        im = np.rollaxis(im,0,2)\n",
    "        \n",
    "        # save the file \n",
    "        tifffile.imsave(out_file, im, imagej = True)\n",
    "\n",
    "        print 'new file is:', out_file\n",
    "        \n"
   ]
  },
  {
   "cell_type": "code",
   "execution_count": 111,
   "metadata": {},
   "outputs": [],
   "source": [
    "# Make lists of target and reference files for chromagnon\n",
    "\n",
    "import os\n",
    "outdir = '/Volumes/bioc1301/data/20190220_AdultBrain_MB077c_CamKYFP_smFISH_learning/aligned/'\n",
    "infiles = os.listdir(outdir)\n",
    "\n",
    "# Initialise lists\n",
    "ref_files = []\n",
    "targ_files = []\n",
    "\n",
    "# Populate lists\n",
    "for file in infiles:\n",
    "    if file.endswith('.tif'):\n",
    "        \n",
    "        # Populate reference file list\n",
    "        if file.endswith ('calibration.tif'):\n",
    "            \n",
    "            # There is one calibration per image file, so add it thrice\n",
    "            ref_files.append(file)\n",
    "            ref_files.append(file)\n",
    "            ref_files.append(file)\n",
    "            \n",
    "        # Populate target file list    \n",
    "        else:\n",
    "            targ_files.append(file)\n"
   ]
  },
  {
   "cell_type": "code",
   "execution_count": 115,
   "metadata": {},
   "outputs": [
    {
     "data": {
      "text/plain": [
       "'20190220_MB077c_CamkIIYFP_670_myrSNAP549_violet_1hr_p1_calibration.tif 20190220_MB077c_CamkIIYFP_670_myrSNAP549_violet_1hr_p1_calibration.tif 20190220_MB077c_CamkIIYFP_670_myrSNAP549_violet_1hr_p1_calibration.tif 20190220_MB077c_CamkIIYFP_670_myrSNAP549_violet_1hr_p2_calibration.tif 20190220_MB077c_CamkIIYFP_670_myrSNAP549_violet_1hr_p2_calibration.tif 20190220_MB077c_CamkIIYFP_670_myrSNAP549_violet_1hr_p2_calibration.tif 20190220_MB077c_CamkIIYFP_670_myrSNAP549_violet_1hr_p3_calibration.tif 20190220_MB077c_CamkIIYFP_670_myrSNAP549_violet_1hr_p3_calibration.tif 20190220_MB077c_CamkIIYFP_670_myrSNAP549_violet_1hr_p3_calibration.tif 20190220_MB077c_CamkIIYFP_670_myrSNAP549_violet_1hr_p4_calibration.tif 20190220_MB077c_CamkIIYFP_670_myrSNAP549_violet_1hr_p4_calibration.tif 20190220_MB077c_CamkIIYFP_670_myrSNAP549_violet_1hr_p4_calibration.tif 20190220_MB077c_CamkIIYFP_670_myrSNAP549_violet_1hr_p5_calibration.tif 20190220_MB077c_CamkIIYFP_670_myrSNAP549_violet_1hr_p5_calibration.tif 20190220_MB077c_CamkIIYFP_670_myrSNAP549_violet_1hr_p5_calibration.tif 20190220_MB077c_CamkIIYFP_670_myrSNAP549_violet_1hr_p6_calibration.tif 20190220_MB077c_CamkIIYFP_670_myrSNAP549_violet_1hr_p6_calibration.tif 20190220_MB077c_CamkIIYFP_670_myrSNAP549_violet_1hr_p6_calibration.tif 20190220_MB077c_CamkIIYFP_670_myrSNAP549_violet_1hr_p7_calibration.tif 20190220_MB077c_CamkIIYFP_670_myrSNAP549_violet_1hr_p7_calibration.tif 20190220_MB077c_CamkIIYFP_670_myrSNAP549_violet_1hr_p7_calibration.tif 20190220_MB077c_CamkIIYFP_670_myrSNAP549_violet_1hr_p8_calibration.tif 20190220_MB077c_CamkIIYFP_670_myrSNAP549_violet_1hr_p8_calibration.tif 20190220_MB077c_CamkIIYFP_670_myrSNAP549_violet_1hr_p8_calibration.tif 20190220_MB077c_CamkIIYFP_670_myrSNAP549_violet_2hr_p1_calibration.tif 20190220_MB077c_CamkIIYFP_670_myrSNAP549_violet_2hr_p1_calibration.tif 20190220_MB077c_CamkIIYFP_670_myrSNAP549_violet_2hr_p1_calibration.tif 20190220_MB077c_CamkIIYFP_670_myrSNAP549_violet_2hr_p2_calibration.tif 20190220_MB077c_CamkIIYFP_670_myrSNAP549_violet_2hr_p2_calibration.tif 20190220_MB077c_CamkIIYFP_670_myrSNAP549_violet_2hr_p2_calibration.tif 20190220_MB077c_CamkIIYFP_670_myrSNAP549_violet_2hr_p4_calibration.tif 20190220_MB077c_CamkIIYFP_670_myrSNAP549_violet_2hr_p4_calibration.tif 20190220_MB077c_CamkIIYFP_670_myrSNAP549_violet_2hr_p4_calibration.tif 20190220_MB077c_CamkIIYFP_670_myrSNAP549_violet_2hr_p5_calibration.tif 20190220_MB077c_CamkIIYFP_670_myrSNAP549_violet_2hr_p5_calibration.tif 20190220_MB077c_CamkIIYFP_670_myrSNAP549_violet_2hr_p5_calibration.tif 20190220_MB077c_CamkIIYFP_670_myrSNAP549_violet_2hr_p6_calibration.tif 20190220_MB077c_CamkIIYFP_670_myrSNAP549_violet_2hr_p6_calibration.tif 20190220_MB077c_CamkIIYFP_670_myrSNAP549_violet_2hr_p6_calibration.tif 20190220_MB077c_CamkIIYFP_670_myrSNAP549_violet_2hr_p7_calibration.tif 20190220_MB077c_CamkIIYFP_670_myrSNAP549_violet_2hr_p7_calibration.tif 20190220_MB077c_CamkIIYFP_670_myrSNAP549_violet_2hr_p7_calibration.tif 20190220_MB077c_CamkIIYFP_670_myrSNAP549_violet_Im_p1_calibration.tif 20190220_MB077c_CamkIIYFP_670_myrSNAP549_violet_Im_p1_calibration.tif 20190220_MB077c_CamkIIYFP_670_myrSNAP549_violet_Im_p1_calibration.tif 20190220_MB077c_CamkIIYFP_670_myrSNAP549_violet_Im_p2_calibration.tif 20190220_MB077c_CamkIIYFP_670_myrSNAP549_violet_Im_p2_calibration.tif 20190220_MB077c_CamkIIYFP_670_myrSNAP549_violet_Im_p2_calibration.tif 20190220_MB077c_CamkIIYFP_670_myrSNAP549_violet_Im_p4_calibration.tif 20190220_MB077c_CamkIIYFP_670_myrSNAP549_violet_Im_p4_calibration.tif 20190220_MB077c_CamkIIYFP_670_myrSNAP549_violet_Im_p4_calibration.tif 20190220_MB077c_CamkIIYFP_670_myrSNAP549_violet_Im_p5_calibration.tif 20190220_MB077c_CamkIIYFP_670_myrSNAP549_violet_Im_p5_calibration.tif 20190220_MB077c_CamkIIYFP_670_myrSNAP549_violet_Im_p5_calibration.tif 20190220_MB077c_CamkIIYFP_670_myrSNAP549_violet_Im_p6_calibration.tif 20190220_MB077c_CamkIIYFP_670_myrSNAP549_violet_Im_p6_calibration.tif 20190220_MB077c_CamkIIYFP_670_myrSNAP549_violet_Im_p6_calibration.tif 20190220_MB077c_CamkIIYFP_670_myrSNAP549_violet_Im_p7_calibration.tif 20190220_MB077c_CamkIIYFP_670_myrSNAP549_violet_Im_p7_calibration.tif 20190220_MB077c_CamkIIYFP_670_myrSNAP549_violet_Im_p7_calibration.tif 20190220_MB077c_CamkIIYFP_670_myrSNAP549_violet_O_p1_calibration.tif 20190220_MB077c_CamkIIYFP_670_myrSNAP549_violet_O_p1_calibration.tif 20190220_MB077c_CamkIIYFP_670_myrSNAP549_violet_O_p1_calibration.tif 20190220_MB077c_CamkIIYFP_670_myrSNAP549_violet_O_p2_calibration.tif 20190220_MB077c_CamkIIYFP_670_myrSNAP549_violet_O_p2_calibration.tif 20190220_MB077c_CamkIIYFP_670_myrSNAP549_violet_O_p2_calibration.tif 20190220_MB077c_CamkIIYFP_670_myrSNAP549_violet_O_p3_calibration.tif 20190220_MB077c_CamkIIYFP_670_myrSNAP549_violet_O_p3_calibration.tif 20190220_MB077c_CamkIIYFP_670_myrSNAP549_violet_O_p3_calibration.tif 20190220_MB077c_CamkIIYFP_670_myrSNAP549_violet_O_p4_calibration.tif 20190220_MB077c_CamkIIYFP_670_myrSNAP549_violet_O_p4_calibration.tif 20190220_MB077c_CamkIIYFP_670_myrSNAP549_violet_O_p4_calibration.tif 20190220_MB077c_CamkIIYFP_670_myrSNAP549_violet_O_p5_calibration.tif 20190220_MB077c_CamkIIYFP_670_myrSNAP549_violet_O_p5_calibration.tif 20190220_MB077c_CamkIIYFP_670_myrSNAP549_violet_O_p5_calibration.tif 20190220_MB077c_CamkIIYFP_670_myrSNAP549_violet_O_p6_calibration.tif 20190220_MB077c_CamkIIYFP_670_myrSNAP549_violet_O_p6_calibration.tif 20190220_MB077c_CamkIIYFP_670_myrSNAP549_violet_O_p6_calibration.tif 20190220_MB077c_CamkIIYFP_670_myrSNAP549_violet_O_p7_calibration.tif 20190220_MB077c_CamkIIYFP_670_myrSNAP549_violet_O_p7_calibration.tif 20190220_MB077c_CamkIIYFP_670_myrSNAP549_violet_O_p7_calibration.tif 20190220_MB077c_CamkIIYFP_670_myrSNAP549_violet_S_p1_calibration.tif 20190220_MB077c_CamkIIYFP_670_myrSNAP549_violet_S_p1_calibration.tif 20190220_MB077c_CamkIIYFP_670_myrSNAP549_violet_S_p1_calibration.tif 20190220_MB077c_CamkIIYFP_670_myrSNAP549_violet_S_p2_calibration.tif 20190220_MB077c_CamkIIYFP_670_myrSNAP549_violet_S_p2_calibration.tif 20190220_MB077c_CamkIIYFP_670_myrSNAP549_violet_S_p2_calibration.tif 20190220_MB077c_CamkIIYFP_670_myrSNAP549_violet_S_p3_calibration.tif 20190220_MB077c_CamkIIYFP_670_myrSNAP549_violet_S_p3_calibration.tif 20190220_MB077c_CamkIIYFP_670_myrSNAP549_violet_S_p3_calibration.tif 20190220_MB077c_CamkIIYFP_670_myrSNAP549_violet_S_p5_calibration.tif 20190220_MB077c_CamkIIYFP_670_myrSNAP549_violet_S_p5_calibration.tif 20190220_MB077c_CamkIIYFP_670_myrSNAP549_violet_S_p5_calibration.tif 20190220_MB077c_CamkIIYFP_670_myrSNAP549_violet_S_p6_calibration.tif 20190220_MB077c_CamkIIYFP_670_myrSNAP549_violet_S_p6_calibration.tif 20190220_MB077c_CamkIIYFP_670_myrSNAP549_violet_S_p6_calibration.tif 20190220_MB077c_CamkIIYFP_670_myrSNAP549_violet_S_p8_calibration.tif 20190220_MB077c_CamkIIYFP_670_myrSNAP549_violet_S_p8_calibration.tif 20190220_MB077c_CamkIIYFP_670_myrSNAP549_violet_S_p8_calibration.tif 20190220_MB077c_CamkIIYFP_670_myrSNAP549_violet_Ut_p1_calibration.tif 20190220_MB077c_CamkIIYFP_670_myrSNAP549_violet_Ut_p1_calibration.tif 20190220_MB077c_CamkIIYFP_670_myrSNAP549_violet_Ut_p1_calibration.tif 20190220_MB077c_CamkIIYFP_670_myrSNAP549_violet_Ut_p2_calibration.tif 20190220_MB077c_CamkIIYFP_670_myrSNAP549_violet_Ut_p2_calibration.tif 20190220_MB077c_CamkIIYFP_670_myrSNAP549_violet_Ut_p2_calibration.tif 20190220_MB077c_CamkIIYFP_670_myrSNAP549_violet_Ut_p3_calibration.tif 20190220_MB077c_CamkIIYFP_670_myrSNAP549_violet_Ut_p3_calibration.tif 20190220_MB077c_CamkIIYFP_670_myrSNAP549_violet_Ut_p3_calibration.tif 20190220_MB077c_CamkIIYFP_670_myrSNAP549_violet_Ut_p4_calibration.tif 20190220_MB077c_CamkIIYFP_670_myrSNAP549_violet_Ut_p4_calibration.tif 20190220_MB077c_CamkIIYFP_670_myrSNAP549_violet_Ut_p4_calibration.tif 20190220_MB077c_CamkIIYFP_670_myrSNAP549_violet_Ut_p5_calibration.tif 20190220_MB077c_CamkIIYFP_670_myrSNAP549_violet_Ut_p5_calibration.tif 20190220_MB077c_CamkIIYFP_670_myrSNAP549_violet_Ut_p5_calibration.tif 20190220_MB077c_CamkIIYFP_670_myrSNAP549_violet_Ut_p6_calibration.tif 20190220_MB077c_CamkIIYFP_670_myrSNAP549_violet_Ut_p6_calibration.tif 20190220_MB077c_CamkIIYFP_670_myrSNAP549_violet_Ut_p6_calibration.tif'"
      ]
     },
     "execution_count": 115,
     "metadata": {},
     "output_type": "execute_result"
    }
   ],
   "source": [
    "# Alphabetise the list and print it with spaces\n",
    "# Copy the list and past directly into the command line\n",
    "\n",
    "ref_files.sort()\n",
    "' '.join(ref_files)"
   ]
  },
  {
   "cell_type": "code",
   "execution_count": 116,
   "metadata": {},
   "outputs": [
    {
     "data": {
      "text/plain": [
       "'20190220_MB077c_CamkIIYFP_670_myrSNAP549_violet_1hr_p1lMB.tif 20190220_MB077c_CamkIIYFP_670_myrSNAP549_violet_1hr_p1rMB.tif 20190220_MB077c_CamkIIYFP_670_myrSNAP549_violet_1hr_p1soma.tif 20190220_MB077c_CamkIIYFP_670_myrSNAP549_violet_1hr_p2lMB.tif 20190220_MB077c_CamkIIYFP_670_myrSNAP549_violet_1hr_p2rMB.tif 20190220_MB077c_CamkIIYFP_670_myrSNAP549_violet_1hr_p2soma.tif 20190220_MB077c_CamkIIYFP_670_myrSNAP549_violet_1hr_p3lMb.tif 20190220_MB077c_CamkIIYFP_670_myrSNAP549_violet_1hr_p3rMb.tif 20190220_MB077c_CamkIIYFP_670_myrSNAP549_violet_1hr_p3soma.tif 20190220_MB077c_CamkIIYFP_670_myrSNAP549_violet_1hr_p4lMB.tif 20190220_MB077c_CamkIIYFP_670_myrSNAP549_violet_1hr_p4rMB.tif 20190220_MB077c_CamkIIYFP_670_myrSNAP549_violet_1hr_p4soma.tif 20190220_MB077c_CamkIIYFP_670_myrSNAP549_violet_1hr_p5lMB.tif 20190220_MB077c_CamkIIYFP_670_myrSNAP549_violet_1hr_p5rMB.tif 20190220_MB077c_CamkIIYFP_670_myrSNAP549_violet_1hr_p5soma.tif 20190220_MB077c_CamkIIYFP_670_myrSNAP549_violet_1hr_p6lMB.tif 20190220_MB077c_CamkIIYFP_670_myrSNAP549_violet_1hr_p6rMB.tif 20190220_MB077c_CamkIIYFP_670_myrSNAP549_violet_1hr_p6soma.tif 20190220_MB077c_CamkIIYFP_670_myrSNAP549_violet_1hr_p7lMB.tif 20190220_MB077c_CamkIIYFP_670_myrSNAP549_violet_1hr_p7rMB.tif 20190220_MB077c_CamkIIYFP_670_myrSNAP549_violet_1hr_p7soma.tif 20190220_MB077c_CamkIIYFP_670_myrSNAP549_violet_1hr_p8lMB.tif 20190220_MB077c_CamkIIYFP_670_myrSNAP549_violet_1hr_p8rMB.tif 20190220_MB077c_CamkIIYFP_670_myrSNAP549_violet_1hr_p8rsoma.tif 20190220_MB077c_CamkIIYFP_670_myrSNAP549_violet_2hr_p1lMB.tif 20190220_MB077c_CamkIIYFP_670_myrSNAP549_violet_2hr_p1rMB.tif 20190220_MB077c_CamkIIYFP_670_myrSNAP549_violet_2hr_p1soma.tif 20190220_MB077c_CamkIIYFP_670_myrSNAP549_violet_2hr_p2lMB.tif 20190220_MB077c_CamkIIYFP_670_myrSNAP549_violet_2hr_p2rMB.tif 20190220_MB077c_CamkIIYFP_670_myrSNAP549_violet_2hr_p2soma.tif 20190220_MB077c_CamkIIYFP_670_myrSNAP549_violet_2hr_p4lMB.tif 20190220_MB077c_CamkIIYFP_670_myrSNAP549_violet_2hr_p4rMB.tif 20190220_MB077c_CamkIIYFP_670_myrSNAP549_violet_2hr_p4soma.tif 20190220_MB077c_CamkIIYFP_670_myrSNAP549_violet_2hr_p5lMB.tif 20190220_MB077c_CamkIIYFP_670_myrSNAP549_violet_2hr_p5rMB.tif 20190220_MB077c_CamkIIYFP_670_myrSNAP549_violet_2hr_p5soma.tif 20190220_MB077c_CamkIIYFP_670_myrSNAP549_violet_2hr_p6lMB.tif 20190220_MB077c_CamkIIYFP_670_myrSNAP549_violet_2hr_p6rMB.tif 20190220_MB077c_CamkIIYFP_670_myrSNAP549_violet_2hr_p6soma.tif 20190220_MB077c_CamkIIYFP_670_myrSNAP549_violet_2hr_p7lMB.tif 20190220_MB077c_CamkIIYFP_670_myrSNAP549_violet_2hr_p7rMB.tif 20190220_MB077c_CamkIIYFP_670_myrSNAP549_violet_2hr_p7soma.tif 20190220_MB077c_CamkIIYFP_670_myrSNAP549_violet_Im_p1lMB.tif 20190220_MB077c_CamkIIYFP_670_myrSNAP549_violet_Im_p1rMB.tif 20190220_MB077c_CamkIIYFP_670_myrSNAP549_violet_Im_p1soma.tif 20190220_MB077c_CamkIIYFP_670_myrSNAP549_violet_Im_p2lMB.tif 20190220_MB077c_CamkIIYFP_670_myrSNAP549_violet_Im_p2rMB.tif 20190220_MB077c_CamkIIYFP_670_myrSNAP549_violet_Im_p2soma.tif 20190220_MB077c_CamkIIYFP_670_myrSNAP549_violet_Im_p4lMB.tif 20190220_MB077c_CamkIIYFP_670_myrSNAP549_violet_Im_p4rMB.tif 20190220_MB077c_CamkIIYFP_670_myrSNAP549_violet_Im_p4soma.tif 20190220_MB077c_CamkIIYFP_670_myrSNAP549_violet_Im_p5lMB.tif 20190220_MB077c_CamkIIYFP_670_myrSNAP549_violet_Im_p5rMB.tif 20190220_MB077c_CamkIIYFP_670_myrSNAP549_violet_Im_p5soma.tif 20190220_MB077c_CamkIIYFP_670_myrSNAP549_violet_Im_p6lMB.tif 20190220_MB077c_CamkIIYFP_670_myrSNAP549_violet_Im_p6rMB.tif 20190220_MB077c_CamkIIYFP_670_myrSNAP549_violet_Im_p6soma.tif 20190220_MB077c_CamkIIYFP_670_myrSNAP549_violet_Im_p7lMB.tif 20190220_MB077c_CamkIIYFP_670_myrSNAP549_violet_Im_p7rMB.tif 20190220_MB077c_CamkIIYFP_670_myrSNAP549_violet_Im_p7soma.tif 20190220_MB077c_CamkIIYFP_670_myrSNAP549_violet_O_p1lMB.tif 20190220_MB077c_CamkIIYFP_670_myrSNAP549_violet_O_p1rMB.tif 20190220_MB077c_CamkIIYFP_670_myrSNAP549_violet_O_p1soma.tif 20190220_MB077c_CamkIIYFP_670_myrSNAP549_violet_O_p2lMB.tif 20190220_MB077c_CamkIIYFP_670_myrSNAP549_violet_O_p2rMB.tif 20190220_MB077c_CamkIIYFP_670_myrSNAP549_violet_O_p2soma.tif 20190220_MB077c_CamkIIYFP_670_myrSNAP549_violet_O_p3lMB.tif 20190220_MB077c_CamkIIYFP_670_myrSNAP549_violet_O_p3rMB.tif 20190220_MB077c_CamkIIYFP_670_myrSNAP549_violet_O_p3soma.tif 20190220_MB077c_CamkIIYFP_670_myrSNAP549_violet_O_p4lMB.tif 20190220_MB077c_CamkIIYFP_670_myrSNAP549_violet_O_p4rMB.tif 20190220_MB077c_CamkIIYFP_670_myrSNAP549_violet_O_p4soma.tif 20190220_MB077c_CamkIIYFP_670_myrSNAP549_violet_O_p5lMB.tif 20190220_MB077c_CamkIIYFP_670_myrSNAP549_violet_O_p5rMB.tif 20190220_MB077c_CamkIIYFP_670_myrSNAP549_violet_O_p5soma.tif 20190220_MB077c_CamkIIYFP_670_myrSNAP549_violet_O_p6lMB.tif 20190220_MB077c_CamkIIYFP_670_myrSNAP549_violet_O_p6rMB.tif 20190220_MB077c_CamkIIYFP_670_myrSNAP549_violet_O_p6soma.tif 20190220_MB077c_CamkIIYFP_670_myrSNAP549_violet_O_p7lMB.tif 20190220_MB077c_CamkIIYFP_670_myrSNAP549_violet_O_p7rMB.tif 20190220_MB077c_CamkIIYFP_670_myrSNAP549_violet_O_p7soma.tif 20190220_MB077c_CamkIIYFP_670_myrSNAP549_violet_S_p1lMB.tif 20190220_MB077c_CamkIIYFP_670_myrSNAP549_violet_S_p1rMB.tif 20190220_MB077c_CamkIIYFP_670_myrSNAP549_violet_S_p1soma.tif 20190220_MB077c_CamkIIYFP_670_myrSNAP549_violet_S_p2lMB.tif 20190220_MB077c_CamkIIYFP_670_myrSNAP549_violet_S_p2rMB.tif 20190220_MB077c_CamkIIYFP_670_myrSNAP549_violet_S_p2soma.tif 20190220_MB077c_CamkIIYFP_670_myrSNAP549_violet_S_p3lMB.tif 20190220_MB077c_CamkIIYFP_670_myrSNAP549_violet_S_p3rMB.tif 20190220_MB077c_CamkIIYFP_670_myrSNAP549_violet_S_p3soma.tif 20190220_MB077c_CamkIIYFP_670_myrSNAP549_violet_S_p5lMB.tif 20190220_MB077c_CamkIIYFP_670_myrSNAP549_violet_S_p5rMB.tif 20190220_MB077c_CamkIIYFP_670_myrSNAP549_violet_S_p5soma.tif 20190220_MB077c_CamkIIYFP_670_myrSNAP549_violet_S_p6lMB.tif 20190220_MB077c_CamkIIYFP_670_myrSNAP549_violet_S_p6rMB.tif 20190220_MB077c_CamkIIYFP_670_myrSNAP549_violet_S_p6soma.tif 20190220_MB077c_CamkIIYFP_670_myrSNAP549_violet_S_p8lMB.tif 20190220_MB077c_CamkIIYFP_670_myrSNAP549_violet_S_p8rMB.tif 20190220_MB077c_CamkIIYFP_670_myrSNAP549_violet_S_p8soma.tif 20190220_MB077c_CamkIIYFP_670_myrSNAP549_violet_Ut_p1lMB.tif 20190220_MB077c_CamkIIYFP_670_myrSNAP549_violet_Ut_p1rMB.tif 20190220_MB077c_CamkIIYFP_670_myrSNAP549_violet_Ut_p1soma.tif 20190220_MB077c_CamkIIYFP_670_myrSNAP549_violet_Ut_p2lMB.tif 20190220_MB077c_CamkIIYFP_670_myrSNAP549_violet_Ut_p2rMB.tif 20190220_MB077c_CamkIIYFP_670_myrSNAP549_violet_Ut_p2soma.tif 20190220_MB077c_CamkIIYFP_670_myrSNAP549_violet_Ut_p3lMB.tif 20190220_MB077c_CamkIIYFP_670_myrSNAP549_violet_Ut_p3rMB.tif 20190220_MB077c_CamkIIYFP_670_myrSNAP549_violet_Ut_p3soma.tif 20190220_MB077c_CamkIIYFP_670_myrSNAP549_violet_Ut_p4lMB.tif 20190220_MB077c_CamkIIYFP_670_myrSNAP549_violet_Ut_p4rMB.tif 20190220_MB077c_CamkIIYFP_670_myrSNAP549_violet_Ut_p4soma.tif 20190220_MB077c_CamkIIYFP_670_myrSNAP549_violet_Ut_p5lMB.tif 20190220_MB077c_CamkIIYFP_670_myrSNAP549_violet_Ut_p5rMB.tif 20190220_MB077c_CamkIIYFP_670_myrSNAP549_violet_Ut_p5soma.tif 20190220_MB077c_CamkIIYFP_670_myrSNAP549_violet_Ut_p6lMB.tif 20190220_MB077c_CamkIIYFP_670_myrSNAP549_violet_Ut_p6rMB.tif 20190220_MB077c_CamkIIYFP_670_myrSNAP549_violet_Ut_p6soma.tif'"
      ]
     },
     "execution_count": 116,
     "metadata": {},
     "output_type": "execute_result"
    }
   ],
   "source": [
    "# Alphabetise the list and print it with spaces\n",
    "# Copy the list and past directly into the command line\n",
    "\n",
    "targ_files.sort()\n",
    "' '.join(targ_files)"
   ]
  },
  {
   "cell_type": "code",
   "execution_count": 12,
   "metadata": {},
   "outputs": [
    {
     "name": "stdout",
     "output_type": "stream",
     "text": [
      "usage: chromagnon target1 target2 -R reference1 reference2 [options]\n",
      "\n",
      "Chromagnon is an adaptive channel alignment program for fluorescnece\n",
      "microscope images. If no image file is supplied, a GUI will open to feed\n",
      "multiple files. If you supply image file, the program starts as a console\n",
      "program. When you have mutiple reference files, do like the 'usage':\n",
      "\n",
      "positional arguments:\n",
      "  targets               target images files\n",
      "\n",
      "optional arguments:\n",
      "  -h, --help            show this help message and exit\n",
      "  --version, -v         show program's version number and exit\n",
      "  --reference [REFERENCE [REFERENCE ...]], -R [REFERENCE [REFERENCE ...]]\n",
      "                        reference image or chromagnon files (required)\n",
      "  --local {None,Projection}, -l {None,Projection}\n",
      "                        choose from ['None', 'Projection'] (default=None)\n",
      "  --localMinWindow {30,60,120,240}, -w {30,60,120,240}\n",
      "                        choose from ['30', '60', '120', '240'] (default=60)\n",
      "  --maxShift MAXSHIFT, -s MAXSHIFT\n",
      "                        maximum um possibily misaligned in your system\n",
      "                        (default=5.00 um)\n",
      "  --not_crop_mergins, -c\n",
      "                        crop mergins after alignment (default=False; do crop\n",
      "                        mergins)\n",
      "  --average_references, -a\n",
      "                        average reference image (default=False)\n",
      "  --parm_suffix PARM_SUFFIX, -P PARM_SUFFIX\n",
      "                        suffix for the chromagnon files (default=None)\n",
      "  --img_suffix IMG_SUFFIX, -S IMG_SUFFIX\n",
      "                        suffix for the target files (default=_ALN)\n",
      "  --img_format {tif,dv,ome.tif}, -E {tif,dv,ome.tif}\n",
      "                        file extension for the target files, choose from\n",
      "                        ['tif', 'dv', 'ome.tif'] (default=tif)\n",
      "\n"
     ]
    }
   ],
   "source": [
    "# Example of calling Chromagnon from Python using subprocess\n",
    "# \n",
    "\n",
    "from subprocess import Popen, PIPE\n",
    "\n",
    "process = Popen(['chromagnon', '-h'], stdout=PIPE, stderr=PIPE)\n",
    "stdout, stderr = process.communicate()\n",
    "print stdout"
   ]
  },
  {
   "cell_type": "code",
   "execution_count": null,
   "metadata": {},
   "outputs": [],
   "source": []
  }
 ],
 "metadata": {
  "kernelspec": {
   "display_name": "Python [conda env:chromagnon]",
   "language": "python",
   "name": "conda-env-chromagnon-py"
  },
  "language_info": {
   "codemirror_mode": {
    "name": "ipython",
    "version": 2
   },
   "file_extension": ".py",
   "mimetype": "text/x-python",
   "name": "python",
   "nbconvert_exporter": "python",
   "pygments_lexer": "ipython2",
   "version": "2.7.15"
  }
 },
 "nbformat": 4,
 "nbformat_minor": 2
}
