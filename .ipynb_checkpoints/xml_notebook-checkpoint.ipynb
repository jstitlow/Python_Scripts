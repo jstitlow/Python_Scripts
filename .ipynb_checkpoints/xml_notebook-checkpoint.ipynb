{
 "cells": [
  {
   "cell_type": "code",
   "execution_count": 14,
   "metadata": {},
   "outputs": [
    {
     "name": "stdout",
     "output_type": "stream",
     "text": [
      "Item #2 attribute:\n",
      "{'name': 'item2'}\n",
      "\n",
      "Item #2 data:\n",
      "item2abc\n",
      "\n",
      "All item data:\n",
      "item1abc\n",
      "item2abc\n"
     ]
    }
   ],
   "source": [
    "import xml.etree.ElementTree as ET  \n",
    "tree = ET.parse('items.xml')  \n",
    "root = tree.getroot()\n",
    "\n",
    "# one specific item attribute\n",
    "print('Item #2 attribute:')  \n",
    "print(root[0][1].attrib)\n",
    "\n",
    "# all item attributes\n",
    "#print('\\nAll attributes:')  \n",
    "for elem in root:  \n",
    "    for subelem in elem:\n",
    "        print(subelem.attrib)\n",
    "\n",
    "# one specific item's data\n",
    "print('\\nItem #2 data:')  \n",
    "print(root[0][1].text)\n",
    "\n",
    "# all items data\n",
    "print('\\nAll item data:')  \n",
    "for elem in root:  \n",
    "    for subelem in elem:\n",
    "        print(subelem.text)"
   ]
  },
  {
   "cell_type": "code",
   "execution_count": 3,
   "metadata": {},
   "outputs": [
    {
     "name": "stdout",
     "output_type": "stream",
     "text": [
      "\n",
      "Item #2 data:\n",
      "0\n"
     ]
    }
   ],
   "source": [
    "import xml.etree.ElementTree as ET  \n",
    "tree = ET.parse('matl.omp2info')\n",
    "root = tree.getroot()\n",
    "\n",
    "# all item attributes\n",
    "#print('\\nAll attributes:')  \n",
    "#for elem in root:  \n",
    "#    for subelem in elem:\n",
    "#        print(subelem.attrib)\n",
    "\n",
    "# one specific item's data      \n",
    "print('\\nItem #2 data:')  \n",
    "print(root[0][1].text)"
   ]
  },
  {
   "cell_type": "code",
   "execution_count": 39,
   "metadata": {},
   "outputs": [
    {
     "ename": "TypeError",
     "evalue": "findall() takes at least 2 arguments (1 given)",
     "output_type": "error",
     "traceback": [
      "\u001b[0;31m---------------------------------------------------------------------------\u001b[0m",
      "\u001b[0;31mTypeError\u001b[0m                                 Traceback (most recent call last)",
      "\u001b[0;32m<ipython-input-39-f0c0c4aefad8>\u001b[0m in \u001b[0;36m<module>\u001b[0;34m()\u001b[0m\n\u001b[1;32m      1\u001b[0m \u001b[0;32mfor\u001b[0m \u001b[0melem\u001b[0m \u001b[0;32min\u001b[0m \u001b[0mroot\u001b[0m\u001b[0;34m:\u001b[0m\u001b[0;34m\u001b[0m\u001b[0m\n\u001b[0;32m----> 2\u001b[0;31m     \u001b[0;32mfor\u001b[0m \u001b[0msubelem\u001b[0m \u001b[0;32min\u001b[0m \u001b[0melem\u001b[0m\u001b[0;34m.\u001b[0m\u001b[0mfindall\u001b[0m\u001b[0;34m(\u001b[0m\u001b[0;34m)\u001b[0m\u001b[0;34m:\u001b[0m\u001b[0;34m\u001b[0m\u001b[0m\n\u001b[0m\u001b[1;32m      3\u001b[0m \u001b[0;34m\u001b[0m\u001b[0m\n\u001b[1;32m      4\u001b[0m         \u001b[0;31m# if we don't need to know the name of the attribute(s), get the dict\u001b[0m\u001b[0;34m\u001b[0m\u001b[0;34m\u001b[0m\u001b[0m\n\u001b[1;32m      5\u001b[0m         \u001b[0;32mprint\u001b[0m\u001b[0;34m(\u001b[0m\u001b[0msubelem\u001b[0m\u001b[0;34m.\u001b[0m\u001b[0mtext\u001b[0m\u001b[0;34m)\u001b[0m\u001b[0;34m\u001b[0m\u001b[0m\n",
      "\u001b[0;31mTypeError\u001b[0m: findall() takes at least 2 arguments (1 given)"
     ]
    }
   ],
   "source": [
    "for elem in root:  \n",
    "    for subelem in elem.findall():\n",
    "\n",
    "        # if we don't need to know the name of the attribute(s), get the dict\n",
    "        print(subelem.text)      \n",
    "\n",
    "        # if we know the name of the attribute, access it directly\n",
    "        #print(subelem.get())"
   ]
  },
  {
   "cell_type": "code",
   "execution_count": 94,
   "metadata": {},
   "outputs": [
    {
     "data": {
      "text/plain": [
       "('3733_Dorsal', '20180824_60x_cycle_A01_G001_0001.oir')"
      ]
     },
     "execution_count": 94,
     "metadata": {},
     "output_type": "execute_result"
    }
   ],
   "source": [
    "root[1][4].text, root[1][6][1].text"
   ]
  },
  {
   "cell_type": "code",
   "execution_count": 96,
   "metadata": {},
   "outputs": [],
   "source": [
    "file_dict = {}\n",
    "for group in root.findall('group'):\n",
    "    group.text"
   ]
  },
  {
   "cell_type": "code",
   "execution_count": 77,
   "metadata": {},
   "outputs": [
    {
     "name": "stdout",
     "output_type": "stream",
     "text": [
      "old filename = ('20180824_60x_cycle_A01_G001_0001.oir', '20180824_60x_cycle_A01_G010_0001.oir')\n",
      "20180824_CPTI003733_Dorsal.tiff\n",
      "20180824_CPTI002905_Dorsal.tiff\n"
     ]
    }
   ],
   "source": [
    "# Rename Olympus matl experiment files with descriptions\n",
    "# created: 8 September 2018\n",
    "#\n",
    "# Run from inside target directory\n",
    "#\n",
    "# Assumes .oir files have been converted to .tiff\n",
    "#     > if not, then modify input file suffix below\n",
    "#\n",
    "# May need to modify filename output\n",
    "\n",
    "import os\n",
    "import xml.etree.ElementTree as ET\n",
    "\n",
    "tree = ET.parse('matl.omp2info')\n",
    "root = tree.getroot()\n",
    "\n",
    "#get cwd\n",
    "cwd = os.getcwd()\n",
    "\n",
    "# map matl namespace\n",
    "ns = {'matl':'http://www.olympus.co.jp/hpf/protocol/matl/model/matl'}\n",
    "\n",
    "# create a dictionary for image name and description\n",
    "file_dict = {}\n",
    "\n",
    "# add image name and description to the dictionary\n",
    "for group in root.findall('matl:group', ns):\n",
    "    for description in group.findall('matl:description', ns):\n",
    "        filename = description.text\n",
    "    for area in group.findall('matl:area', ns):\n",
    "        for image in area.findall('matl:image', ns):\n",
    "            fileId = image.text\n",
    "        file_dict[fileId]= filename\n",
    "\n",
    "#files = ('20180824_60x_cycle_A01_G001_0001.oir', '20180824_60x_cycle_A01_G010_0001.oir')\n",
    "#print 'old filename =', files\n",
    "\n",
    "# replace image name with description nameL\n",
    "for i in cwd if i.endswith('.tiff'):\n",
    "    for fileId, filename in file_dict.items(): \n",
    "        if i in fileId and 'OrR' not in fileId:\n",
    "            newfile = i.replace(i, '20180824_CPTI00'+filename+'.tiff') # input file suffix\n",
    "            os.rename(i, newfile) \n",
    "        if i in fileId and 'OrR' in fileId:\n",
    "            newfile = i.replace(i, '20180824_'+filename+'.tiff') # filename output\n",
    "            os.rename(i, newfile)"
   ]
  },
  {
   "cell_type": "code",
   "execution_count": 24,
   "metadata": {},
   "outputs": [
    {
     "data": {
      "text/plain": [
       "[<Element '{http://www.olympus.co.jp/hpf/protocol/matl/model/matl}properties' at 0x1091dcf90>]"
      ]
     },
     "execution_count": 24,
     "metadata": {},
     "output_type": "execute_result"
    }
   ],
   "source": [
    "root.findall(\".\")"
   ]
  },
  {
   "cell_type": "code",
   "execution_count": 30,
   "metadata": {},
   "outputs": [],
   "source": [
    "for description in root.findall('matl:description', ns):\n",
    "        print description.text"
   ]
  },
  {
   "cell_type": "code",
   "execution_count": null,
   "metadata": {},
   "outputs": [],
   "source": []
  }
 ],
 "metadata": {
  "kernelspec": {
   "display_name": "Python [conda root]",
   "language": "python",
   "name": "conda-root-py"
  },
  "language_info": {
   "codemirror_mode": {
    "name": "ipython",
    "version": 2
   },
   "file_extension": ".py",
   "mimetype": "text/x-python",
   "name": "python",
   "nbconvert_exporter": "python",
   "pygments_lexer": "ipython2",
   "version": "2.7.15"
  }
 },
 "nbformat": 4,
 "nbformat_minor": 2
}
