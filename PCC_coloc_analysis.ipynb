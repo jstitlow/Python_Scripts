{
 "cells": [
  {
   "cell_type": "code",
   "execution_count": 2,
   "metadata": {},
   "outputs": [
    {
     "name": "stdout",
     "output_type": "stream",
     "text": [
      "test1.tif , format = (3, 512, 512)\n",
      "Pearson coef, pvalue: (0.76199767756664705, 0.0)\n",
      "test2.tif , format = (3, 512, 512)\n",
      "Pearson coef, pvalue: (0.74781335454502318, 0.0)\n",
      "test3.tif , format = (3, 512, 512)\n",
      "Pearson coef, pvalue: (0.72028028623932339, 0.0)\n",
      "test4.tif , format = (3, 512, 512)\n",
      "Pearson coef, pvalue: (0.17330807423529637, 0.0)\n",
      "test.tif , format = (3, 512, 512)\n",
      "Pearson coef, pvalue: (0.75068466561840519, 0.0)\n"
     ]
    },
    {
     "data": {
      "image/png": "[encoded data removed]",
      "text/plain": [
       "<matplotlib.figure.Figure at 0x1105554d0>"
      ]
     },
     "metadata": {},
     "output_type": "display_data"
    }
   ],
   "source": [
    "# Pearson correlation coefficient for quantifying colocalisation of diffuse signal in images\n",
    "\n",
    "import os\n",
    "import tifffile\n",
    "import pandas as pd\n",
    "from scipy import stats\n",
    "import matplotlib.pyplot as plt\n",
    "%matplotlib inline \n",
    "\n",
    "# specify directory of images\n",
    "indir = ('/Users/joshtitlow/tmp/coloc/')\n",
    "infiles = os.listdir(indir)\n",
    "\n",
    "# create a figure and start counting\n",
    "fig = plt.figure(figsize = (10,10))\n",
    "n = 1\n",
    "\n",
    "# create a df and a list to store filename and PCC values\n",
    "df = pd.DataFrame()\n",
    "filename = []\n",
    "PCC = []\n",
    "\n",
    "\n",
    "# analyse each file in the directory\n",
    "for file in infiles: \n",
    "    if file.endswith('.tif'):\n",
    "        if not file.startswith('._'):\n",
    "            \n",
    "            # read image file and show data structure\n",
    "            im = tifffile.imread(os.path.join(indir, file))\n",
    "            print file, ', format =', im.shape\n",
    "            filename.append(file)\n",
    "            \n",
    "            # load channels into a flattened array\n",
    "            ch1 = im[0].flatten()\n",
    "            ch2 = im[1].flatten()\n",
    "\n",
    "            # Perform pearson correlation analysis (returns coefficient and p-value)\n",
    "            pearson = stats.pearsonr(ch1, ch2)\n",
    "            print 'Pearson coef, pvalue:', pearson\n",
    "            PCC.append(pearson[0])\n",
    "        \n",
    "            # plot the data\n",
    "            #ax = plt.subplot(111)\n",
    "            ax = fig.add_subplot(5,5,n)\n",
    "            ax.scatter(ch1,ch2, c='black', alpha=0.5)\n",
    "            ax.set_title(file)\n",
    "            ax.set_xlabel('Ch1')\n",
    "            ax.set_ylabel('Ch2')\n",
    "            ax.spines['right'].set_visible(False)\n",
    "            ax.spines['top'].set_visible(False)\n",
    "            plt.xlim(0, 65000)\n",
    "            plt.ylim(0, 65000)\n",
    "            \n",
    "            # iterate\n",
    "            n+=1\n",
    "\n",
    "# plot the data and save results\n",
    "plt.tight_layout()\n",
    "\n",
    "plt.savefig('PCC_figs.png')\n",
    "plt.show(fig)\n",
    "\n",
    "\n",
    "df['filename'] = filename\n",
    "df['PCC'] = PCC\n",
    "df.to_csv('PCC_values.csv', index=False)"
   ]
  },
  {
   "cell_type": "code",
   "execution_count": 61,
   "metadata": {},
   "outputs": [
    {
     "name": "stdout",
     "output_type": "stream",
     "text": [
      "(39, 956, 956)\n",
      "0\n"
     ]
    },
    {
     "name": "stderr",
     "output_type": "stream",
     "text": [
      "//anaconda/lib/python2.7/site-packages/ipykernel/__main__.py:46: VisibleDeprecationWarning: using a non-integer number instead of an integer will result in an error in the future\n"
     ]
    }
   ],
   "source": [
    "# Determining localisation of spots within a mask\n",
    "\n",
    "# Requires binary image mask and FQ spots file\n",
    "# -can be modified for any table of centroid coordinates\n",
    "\n",
    "import os\n",
    "import tifffile\n",
    "import numpy as np\n",
    "import pandas as pd\n",
    "from scipy import stats\n",
    "import matplotlib.pyplot as plt\n",
    "%matplotlib inline \n",
    "\n",
    "# specify the FQ centroid file\n",
    "FQ_file = '/Users/joshtitlow/tmp/coloc/syp_coloc/msp300_smFISH__spots.txt'\n",
    "\n",
    "# read the FQ file from the metadata header to get pixel size\n",
    "px_size = pd.read_csv(FQ_file, sep='\\t', header=10, nrows=2)\n",
    "px_xy = px_size['Pix-XY'].iloc[0]\n",
    "px_z = px_size['Pix-Z'].iloc[0]\n",
    "\n",
    "# read the FQ file from the data header to get centroid positions\n",
    "centroid_file = pd.read_csv(FQ_file, sep='\\t', header=18)\n",
    "\n",
    "# convert spatial dimensions to pixel dimensions\n",
    "centroid_file['X_pix'] = np.ceil(centroid_file['Pos_X'].div(float(px_xy)))\n",
    "centroid_file['Y_pix'] = np.ceil(centroid_file['Pos_Y'].div(float(px_xy)))\n",
    "centroid_file['Z_pix'] = np.ceil(centroid_file['Pos_Z'].div(float(px_z)))\n",
    "\n",
    "# create lists to store spot localisation compartment\n",
    "spot_loc = []\n",
    "\n",
    "# read image file and show data structure\n",
    "mask = tifffile.imread('/Users/joshtitlow/tmp/coloc/syp_coloc/DAPI_mask.tif')\n",
    "print mask.shape\n",
    "print mask[20,255,255]\n",
    "\n",
    "# start counting so the plt\n",
    "n = 1\n",
    "\n",
    "# index rows in the FQ.csv file to get file names and pixel coordinates\n",
    "for index, row in centroid_file.iterrows():\n",
    "    x = row['X_pix'] \n",
    "    y = row['Y_pix']\n",
    "    z = row['Z_pix']\n",
    "    loc = mask[z, y, x]\n",
    "    #print loc\n",
    "    if loc == 1:\n",
    "        spot_loc.append('nucleus')\n",
    "    if loc == 0:\n",
    "        spot_loc.append('cytosol')\n",
    "        \n",
    "# write basic statistics to centroid file\n",
    "centroid_file['spot_loc'] = spot_loc\n",
    "\n",
    "#centroid_file = pd.DataFrame(mean_pixels, columns=[\"column\"])\n",
    "centroid_file.to_csv('test_list.csv', index=False)"
   ]
  },
  {
   "cell_type": "code",
   "execution_count": 54,
   "metadata": {},
   "outputs": [
    {
     "name": "stdout",
     "output_type": "stream",
     "text": [
      "307\n",
      "77\n"
     ]
    }
   ],
   "source": [
    "print spot_loc.count('cytosol')\n",
    "print spot_loc.count('nucleus')"
   ]
  },
  {
   "cell_type": "code",
   "execution_count": 46,
   "metadata": {},
   "outputs": [
    {
     "name": "stdout",
     "output_type": "stream",
     "text": [
      "no\n"
     ]
    }
   ],
   "source": [
    "if loc == 1:\n",
    "    print 'yes'\n",
    "if loc == 0:\n",
    "    print 'no'"
   ]
  },
  {
   "cell_type": "code",
   "execution_count": 1,
   "metadata": {},
   "outputs": [
    {
     "name": "stderr",
     "output_type": "stream",
     "text": [
      "//anaconda/lib/python2.7/site-packages/ipykernel/__main__.py:57: VisibleDeprecationWarning: using a non-integer number instead of an integer will result in an error in the future\n"
     ]
    },
    {
     "ename": "ValueError",
     "evalue": "Length of values does not match length of index",
     "output_type": "error",
     "traceback": [
      "\u001b[0;31m---------------------------------------------------------------------------\u001b[0m",
      "\u001b[0;31mValueError\u001b[0m                                Traceback (most recent call last)",
      "\u001b[0;32m<ipython-input-1-8e48886af2da>\u001b[0m in \u001b[0;36m<module>\u001b[0;34m()\u001b[0m\n\u001b[1;32m     63\u001b[0m \u001b[0;34m\u001b[0m\u001b[0m\n\u001b[1;32m     64\u001b[0m             \u001b[0;31m# write basic statistics to centroid file\u001b[0m\u001b[0;34m\u001b[0m\u001b[0;34m\u001b[0m\u001b[0m\n\u001b[0;32m---> 65\u001b[0;31m             \u001b[0mcentroid_file\u001b[0m\u001b[0;34m[\u001b[0m\u001b[0;34m'spot_loc'\u001b[0m\u001b[0;34m]\u001b[0m \u001b[0;34m=\u001b[0m \u001b[0mspot_loc\u001b[0m\u001b[0;34m\u001b[0m\u001b[0m\n\u001b[0m\u001b[1;32m     66\u001b[0m \u001b[0;34m\u001b[0m\u001b[0m\n\u001b[1;32m     67\u001b[0m             \u001b[0;31m#centroid_file = pd.DataFrame(mean_pixels, columns=[\"column\"])\u001b[0m\u001b[0;34m\u001b[0m\u001b[0;34m\u001b[0m\u001b[0m\n",
      "\u001b[0;32m//anaconda/lib/python2.7/site-packages/pandas/core/frame.pyc\u001b[0m in \u001b[0;36m__setitem__\u001b[0;34m(self, key, value)\u001b[0m\n\u001b[1;32m   2355\u001b[0m         \u001b[0;32melse\u001b[0m\u001b[0;34m:\u001b[0m\u001b[0;34m\u001b[0m\u001b[0m\n\u001b[1;32m   2356\u001b[0m             \u001b[0;31m# set column\u001b[0m\u001b[0;34m\u001b[0m\u001b[0;34m\u001b[0m\u001b[0m\n\u001b[0;32m-> 2357\u001b[0;31m             \u001b[0mself\u001b[0m\u001b[0;34m.\u001b[0m\u001b[0m_set_item\u001b[0m\u001b[0;34m(\u001b[0m\u001b[0mkey\u001b[0m\u001b[0;34m,\u001b[0m \u001b[0mvalue\u001b[0m\u001b[0;34m)\u001b[0m\u001b[0;34m\u001b[0m\u001b[0m\n\u001b[0m\u001b[1;32m   2358\u001b[0m \u001b[0;34m\u001b[0m\u001b[0m\n\u001b[1;32m   2359\u001b[0m     \u001b[0;32mdef\u001b[0m \u001b[0m_setitem_slice\u001b[0m\u001b[0;34m(\u001b[0m\u001b[0mself\u001b[0m\u001b[0;34m,\u001b[0m \u001b[0mkey\u001b[0m\u001b[0;34m,\u001b[0m \u001b[0mvalue\u001b[0m\u001b[0;34m)\u001b[0m\u001b[0;34m:\u001b[0m\u001b[0;34m\u001b[0m\u001b[0m\n",
      "\u001b[0;32m//anaconda/lib/python2.7/site-packages/pandas/core/frame.pyc\u001b[0m in \u001b[0;36m_set_item\u001b[0;34m(self, key, value)\u001b[0m\n\u001b[1;32m   2421\u001b[0m \u001b[0;34m\u001b[0m\u001b[0m\n\u001b[1;32m   2422\u001b[0m         \u001b[0mself\u001b[0m\u001b[0;34m.\u001b[0m\u001b[0m_ensure_valid_index\u001b[0m\u001b[0;34m(\u001b[0m\u001b[0mvalue\u001b[0m\u001b[0;34m)\u001b[0m\u001b[0;34m\u001b[0m\u001b[0m\n\u001b[0;32m-> 2423\u001b[0;31m         \u001b[0mvalue\u001b[0m \u001b[0;34m=\u001b[0m \u001b[0mself\u001b[0m\u001b[0;34m.\u001b[0m\u001b[0m_sanitize_column\u001b[0m\u001b[0;34m(\u001b[0m\u001b[0mkey\u001b[0m\u001b[0;34m,\u001b[0m \u001b[0mvalue\u001b[0m\u001b[0;34m)\u001b[0m\u001b[0;34m\u001b[0m\u001b[0m\n\u001b[0m\u001b[1;32m   2424\u001b[0m         \u001b[0mNDFrame\u001b[0m\u001b[0;34m.\u001b[0m\u001b[0m_set_item\u001b[0m\u001b[0;34m(\u001b[0m\u001b[0mself\u001b[0m\u001b[0;34m,\u001b[0m \u001b[0mkey\u001b[0m\u001b[0;34m,\u001b[0m \u001b[0mvalue\u001b[0m\u001b[0;34m)\u001b[0m\u001b[0;34m\u001b[0m\u001b[0m\n\u001b[1;32m   2425\u001b[0m \u001b[0;34m\u001b[0m\u001b[0m\n",
      "\u001b[0;32m//anaconda/lib/python2.7/site-packages/pandas/core/frame.pyc\u001b[0m in \u001b[0;36m_sanitize_column\u001b[0;34m(self, key, value)\u001b[0m\n\u001b[1;32m   2576\u001b[0m \u001b[0;34m\u001b[0m\u001b[0m\n\u001b[1;32m   2577\u001b[0m             \u001b[0;31m# turn me into an ndarray\u001b[0m\u001b[0;34m\u001b[0m\u001b[0;34m\u001b[0m\u001b[0m\n\u001b[0;32m-> 2578\u001b[0;31m             \u001b[0mvalue\u001b[0m \u001b[0;34m=\u001b[0m \u001b[0m_sanitize_index\u001b[0m\u001b[0;34m(\u001b[0m\u001b[0mvalue\u001b[0m\u001b[0;34m,\u001b[0m \u001b[0mself\u001b[0m\u001b[0;34m.\u001b[0m\u001b[0mindex\u001b[0m\u001b[0;34m,\u001b[0m \u001b[0mcopy\u001b[0m\u001b[0;34m=\u001b[0m\u001b[0mFalse\u001b[0m\u001b[0;34m)\u001b[0m\u001b[0;34m\u001b[0m\u001b[0m\n\u001b[0m\u001b[1;32m   2579\u001b[0m             \u001b[0;32mif\u001b[0m \u001b[0;32mnot\u001b[0m \u001b[0misinstance\u001b[0m\u001b[0;34m(\u001b[0m\u001b[0mvalue\u001b[0m\u001b[0;34m,\u001b[0m \u001b[0;34m(\u001b[0m\u001b[0mnp\u001b[0m\u001b[0;34m.\u001b[0m\u001b[0mndarray\u001b[0m\u001b[0;34m,\u001b[0m \u001b[0mIndex\u001b[0m\u001b[0;34m)\u001b[0m\u001b[0;34m)\u001b[0m\u001b[0;34m:\u001b[0m\u001b[0;34m\u001b[0m\u001b[0m\n\u001b[1;32m   2580\u001b[0m                 \u001b[0;32mif\u001b[0m \u001b[0misinstance\u001b[0m\u001b[0;34m(\u001b[0m\u001b[0mvalue\u001b[0m\u001b[0;34m,\u001b[0m \u001b[0mlist\u001b[0m\u001b[0;34m)\u001b[0m \u001b[0;32mand\u001b[0m \u001b[0mlen\u001b[0m\u001b[0;34m(\u001b[0m\u001b[0mvalue\u001b[0m\u001b[0;34m)\u001b[0m \u001b[0;34m>\u001b[0m \u001b[0;36m0\u001b[0m\u001b[0;34m:\u001b[0m\u001b[0;34m\u001b[0m\u001b[0m\n",
      "\u001b[0;32m//anaconda/lib/python2.7/site-packages/pandas/core/series.pyc\u001b[0m in \u001b[0;36m_sanitize_index\u001b[0;34m(data, index, copy)\u001b[0m\n\u001b[1;32m   2768\u001b[0m \u001b[0;34m\u001b[0m\u001b[0m\n\u001b[1;32m   2769\u001b[0m     \u001b[0;32mif\u001b[0m \u001b[0mlen\u001b[0m\u001b[0;34m(\u001b[0m\u001b[0mdata\u001b[0m\u001b[0;34m)\u001b[0m \u001b[0;34m!=\u001b[0m \u001b[0mlen\u001b[0m\u001b[0;34m(\u001b[0m\u001b[0mindex\u001b[0m\u001b[0;34m)\u001b[0m\u001b[0;34m:\u001b[0m\u001b[0;34m\u001b[0m\u001b[0m\n\u001b[0;32m-> 2770\u001b[0;31m         \u001b[0;32mraise\u001b[0m \u001b[0mValueError\u001b[0m\u001b[0;34m(\u001b[0m\u001b[0;34m'Length of values does not match length of '\u001b[0m \u001b[0;34m'index'\u001b[0m\u001b[0;34m)\u001b[0m\u001b[0;34m\u001b[0m\u001b[0m\n\u001b[0m\u001b[1;32m   2771\u001b[0m \u001b[0;34m\u001b[0m\u001b[0m\n\u001b[1;32m   2772\u001b[0m     \u001b[0;32mif\u001b[0m \u001b[0misinstance\u001b[0m\u001b[0;34m(\u001b[0m\u001b[0mdata\u001b[0m\u001b[0;34m,\u001b[0m \u001b[0mPeriodIndex\u001b[0m\u001b[0;34m)\u001b[0m\u001b[0;34m:\u001b[0m\u001b[0;34m\u001b[0m\u001b[0m\n",
      "\u001b[0;31mValueError\u001b[0m: Length of values does not match length of index"
     ]
    }
   ],
   "source": [
    "# Determining localisation of spots within a mask\n",
    "\n",
    "# Requires binary image mask and FQ spots file\n",
    "# -can be modified for any table of centroid coordinates\n",
    "\n",
    "import os\n",
    "import tifffile\n",
    "import numpy as np\n",
    "import pandas as pd\n",
    "from scipy import stats\n",
    "import matplotlib.pyplot as plt\n",
    "%matplotlib inline \n",
    "\n",
    "# specify directory of images\n",
    "indir = ('/Users/joshtitlow/tmp/smFISH_data/')\n",
    "infiles = os.listdir(indir)\n",
    "\n",
    "# create a df and a list to store filename and spot localisations\n",
    "df = pd.DataFrame()\n",
    "filename = []\n",
    "nuc_spots = []\n",
    "cytosol_spots = []\n",
    "\n",
    "# analyse each file in the directory\n",
    "for file in infiles: \n",
    "    if file.endswith('.tiff'):\n",
    "        if not file.startswith('._'):\n",
    "            \n",
    "            # specify the FQ centroid file and mask file\n",
    "            FQ_file = os.path.join(indir, 'smFISH_channel/', file.replace('.tiff', '__spots.txt'))\n",
    "            mask = tifffile.imread(os.path.join(indir, 'masks/', file.replace('.tiff', '.tif')))\n",
    "\n",
    "            # append filename to list\n",
    "            filename.append(file)\n",
    "\n",
    "            # read the FQ file from the metadata header to get pixel size\n",
    "            px_size = pd.read_csv(FQ_file, sep='\\t', header=10, nrows=2)\n",
    "            px_xy = px_size['Pix-XY'].iloc[0]\n",
    "            px_z = px_size['Pix-Z'].iloc[0]\n",
    "\n",
    "            # read the FQ file from the data header to get centroid positions\n",
    "            centroid_file = pd.read_csv(FQ_file, sep='\\t', header=18)\n",
    "\n",
    "            # convert spatial dimensions to pixel dimensions\n",
    "            centroid_file['X_pix'] = np.ceil(centroid_file['Pos_X'].div(float(px_xy)))\n",
    "            centroid_file['Y_pix'] = np.ceil(centroid_file['Pos_Y'].div(float(px_xy)))\n",
    "            centroid_file['Z_pix'] = np.ceil(centroid_file['Pos_Z'].div(float(px_z)))\n",
    "\n",
    "            # create lists to store spot localisation compartment\n",
    "            spot_loc = []\n",
    "\n",
    "            # index rows in the FQ.csv file to get file names and pixel coordinates\n",
    "            for index, row in centroid_file.iterrows():\n",
    "                x = row['X_pix'] \n",
    "                y = row['Y_pix']\n",
    "                z = row['Z_pix']\n",
    "                loc = mask[z, y, x]\n",
    "                #print loc\n",
    "                if loc == 1:\n",
    "                    spot_loc.append('nucleus')\n",
    "                if loc == 0:\n",
    "                    spot_loc.append('cytosol')\n",
    "\n",
    "            # write basic statistics to centroid file\n",
    "            centroid_file['spot_loc'] = spot_loc\n",
    "\n",
    "            #centroid_file = pd.DataFrame(mean_pixels, columns=[\"column\"])\n",
    "            centroid_file.to_csv('test_list.csv', index=False)\n",
    "                                   \n",
    "            nuc_spots.append(spot_loc.count('nucleus'))\n",
    "            cytosol_spots.append(spot_loc.count('cytosol'))\n"
   ]
  },
  {
   "cell_type": "code",
   "execution_count": 7,
   "metadata": {},
   "outputs": [
    {
     "data": {
      "text/plain": [
       "459"
      ]
     },
     "execution_count": 7,
     "metadata": {},
     "output_type": "execute_result"
    }
   ],
   "source": [
    "len(centroid_file)"
   ]
  },
  {
   "cell_type": "code",
   "execution_count": null,
   "metadata": {},
   "outputs": [],
   "source": []
  }
 ],
 "metadata": {
  "kernelspec": {
   "display_name": "Python [default]",
   "language": "python",
   "name": "python2"
  },
  "language_info": {
   "codemirror_mode": {
    "name": "ipython",
    "version": 2
   },
   "file_extension": ".py",
   "mimetype": "text/x-python",
   "name": "python",
   "nbconvert_exporter": "python",
   "pygments_lexer": "ipython2",
   "version": "2.7.3"
  }
 },
 "nbformat": 4,
 "nbformat_minor": 2
}
