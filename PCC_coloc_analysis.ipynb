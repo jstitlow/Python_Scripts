{
 "cells": [
  {
   "cell_type": "code",
   "execution_count": 3,
   "metadata": {},
   "outputs": [
    {
     "name": "stdout",
     "output_type": "stream",
     "text": [
      "20170714_SypGFP_msp300_r11_HRP_DAPI_p2s5r_highMag_n2_crop.tif , format = (39, 4, 204, 953)\n",
      "Pearson coef, pvalue: (0.0011667984769677588, 0.60692782808274492)\n"
     ]
    },
    {
     "data": {
      "image/png": "[encoded data removed]",
      "text/plain": [
       "<matplotlib.figure.Figure at 0x11450d590>"
      ]
     },
     "metadata": {},
     "output_type": "display_data"
    }
   ],
   "source": [
    "# Pearson correlation coefficient for quantifying colocalisation of diffuse signal in images\n",
    "\n",
    "import os\n",
    "import tifffile\n",
    "import pandas as pd\n",
    "from scipy import stats\n",
    "import random\n",
    "import matplotlib.pyplot as plt\n",
    "%matplotlib inline \n",
    "\n",
    "# specify directory of images\n",
    "indir = ('/Users/joshtitlow/tmp/coloc/syp_coloc/')\n",
    "infiles = os.listdir(indir)\n",
    "\n",
    "# create a figure and start counting\n",
    "fig = plt.figure(figsize = (10,10))\n",
    "n = 1\n",
    "\n",
    "# create a df and a list to store filename and PCC values\n",
    "df = pd.DataFrame()\n",
    "filename = []\n",
    "PCC = []\n",
    "\n",
    "\n",
    "# analyse each file in the directory\n",
    "for file in infiles: \n",
    "    if file.endswith('.tif'):\n",
    "        if not file.startswith('._'):\n",
    "            \n",
    "            # read image file and show data structure\n",
    "            im = tifffile.imread(os.path.join(indir, file))\n",
    "            print file, ', format =', im.shape\n",
    "            filename.append(file)\n",
    "            \n",
    "            # choose focal plane and load channels into a flattened array\n",
    "            focus = im.shape[0]/2\n",
    "            ch1 = im[focus, 1].flatten()\n",
    "            ch2 = im[focus, 2].flatten()\n",
    "            ch1_random = random.shuffle(ch1)\n",
    "            \n",
    "            # Perform pearson correlation analysis (returns coefficient and p-value)\n",
    "            pearson = stats.pearsonr(ch1, ch2)\n",
    "            print 'Pearson coef, pvalue:', pearson\n",
    "            PCC.append(pearson[0])\n",
    "        \n",
    "            # plot the data\n",
    "            #ax = plt.subplot(111)\n",
    "            ax = fig.add_subplot(5,5,n)\n",
    "            ax.scatter(ch1,ch2, c='black', alpha=0.5)\n",
    "            ax.set_title(file)\n",
    "            ax.set_xlabel('Ch1')\n",
    "            ax.set_ylabel('Ch2')\n",
    "            ax.spines['right'].set_visible(False)\n",
    "            ax.spines['top'].set_visible(False)\n",
    "            plt.xlim(0, 10000)\n",
    "            plt.ylim(0, 30000)\n",
    "            \n",
    "            # iterate\n",
    "            n+=1\n",
    "\n",
    "# plot the data and save results\n",
    "plt.tight_layout()\n",
    "\n",
    "#plt.savefig('PCC_figs.png')\n",
    "plt.show(fig)\n",
    "\n",
    "\n",
    "df['filename'] = filename\n",
    "df['PCC'] = PCC\n",
    "#df.to_csv('PCC_values.csv', index=False)"
   ]
  },
  {
   "cell_type": "code",
   "execution_count": 1,
   "metadata": {},
   "outputs": [
    {
     "ename": "NameError",
     "evalue": "name 'im' is not defined",
     "output_type": "error",
     "traceback": [
      "\u001b[0;31m---------------------------------------------------------------------------\u001b[0m",
      "\u001b[0;31mNameError\u001b[0m                                 Traceback (most recent call last)",
      "\u001b[0;32m<ipython-input-1-afbdf33aed57>\u001b[0m in \u001b[0;36m<module>\u001b[0;34m()\u001b[0m\n\u001b[0;32m----> 1\u001b[0;31m \u001b[0mim\u001b[0m\u001b[0;34m.\u001b[0m\u001b[0mshape\u001b[0m\u001b[0;34m\u001b[0m\u001b[0m\n\u001b[0m",
      "\u001b[0;31mNameError\u001b[0m: name 'im' is not defined"
     ]
    }
   ],
   "source": [
    "im.shape"
   ]
  },
  {
   "cell_type": "code",
   "execution_count": 11,
   "metadata": {},
   "outputs": [
    {
     "data": {
      "text/plain": [
       "19"
      ]
     },
     "execution_count": 11,
     "metadata": {},
     "output_type": "execute_result"
    }
   ],
   "source": [
    "focus = im.shape[0]/2\n",
    "focus"
   ]
  },
  {
   "cell_type": "code",
   "execution_count": 16,
   "metadata": {},
   "outputs": [
    {
     "data": {
      "text/plain": [
       "array([[ 24,  22,  24, ..., 111,  45,  53],\n",
       "       [ 18,  28,  20, ...,  32,  63,  57],\n",
       "       [ 20,  26,  23, ...,  87,  26,  42],\n",
       "       ..., \n",
       "       [ 21,  14,  17, ...,  74,  96,  98],\n",
       "       [ 25,  19,  30, ...,  63,  86,  49],\n",
       "       [ 22,  27,  23, ...,  55,  51,  61]], dtype=uint16)"
      ]
     },
     "execution_count": 16,
     "metadata": {},
     "output_type": "execute_result"
    }
   ],
   "source": [
    "im[18, 2]"
   ]
  },
  {
   "cell_type": "code",
   "execution_count": 13,
   "metadata": {},
   "outputs": [
    {
     "data": {
      "text/plain": [
       "array([344,  62, 225, ..., 146,  63, 103], dtype=uint16)"
      ]
     },
     "execution_count": 13,
     "metadata": {},
     "output_type": "execute_result"
    }
   ],
   "source": [
    "ch1"
   ]
  },
  {
   "cell_type": "code",
   "execution_count": null,
   "metadata": {},
   "outputs": [],
   "source": []
  }
 ],
 "metadata": {
  "kernelspec": {
   "display_name": "Python [default]",
   "language": "python",
   "name": "python2"
  },
  "language_info": {
   "codemirror_mode": {
    "name": "ipython",
    "version": 2
   },
   "file_extension": ".py",
   "mimetype": "text/x-python",
   "name": "python",
   "nbconvert_exporter": "python",
   "pygments_lexer": "ipython2",
   "version": "2.7.3"
  }
 },
 "nbformat": 4,
 "nbformat_minor": 2
}
