{
 "cells": [
  {
   "cell_type": "code",
   "execution_count": 1,
   "metadata": {},
   "outputs": [
    {
     "name": "stdout",
     "output_type": "stream",
     "text": [
      "old file is: /Volumes/bioc1301/data/20190313_AdultBrain_MB077c_CamKYFP_smFISH_learning/21090313_CamkIIYFP_YFP647n_SNAP549_YFP_viol_2hr_p1lMB.ome.tiff\n",
      "new file is: /Volumes/bioc1301/data/20190313_AdultBrain_MB077c_CamKYFP_smFISH_learning/aligned/21090313_CamkIIYFP_YFP647n_SNAP549_YFP_viol_2hr_p1lMB.tif\n",
      "old file is: /Volumes/bioc1301/data/20190313_AdultBrain_MB077c_CamKYFP_smFISH_learning/21090313_CamkIIYFP_YFP647n_SNAP549_YFP_viol_2hr_p1rMB.ome.tiff\n",
      "new file is: /Volumes/bioc1301/data/20190313_AdultBrain_MB077c_CamKYFP_smFISH_learning/aligned/21090313_CamkIIYFP_YFP647n_SNAP549_YFP_viol_2hr_p1rMB.tif\n",
      "old file is: /Volumes/bioc1301/data/20190313_AdultBrain_MB077c_CamKYFP_smFISH_learning/21090313_CamkIIYFP_YFP647n_SNAP549_YFP_viol_2hr_p1soma.ome.tiff\n",
      "new file is: /Volumes/bioc1301/data/20190313_AdultBrain_MB077c_CamKYFP_smFISH_learning/aligned/21090313_CamkIIYFP_YFP647n_SNAP549_YFP_viol_2hr_p1soma.tif\n",
      "old file is: /Volumes/bioc1301/data/20190313_AdultBrain_MB077c_CamKYFP_smFISH_learning/21090313_CamkIIYFP_YFP647n_SNAP549_YFP_viol_2hr_p2lMB.ome.tiff\n"
     ]
    },
    {
     "ename": "KeyboardInterrupt",
     "evalue": "",
     "output_type": "error",
     "traceback": [
      "\u001b[0;31m---------------------------------------------------------------------------\u001b[0m",
      "\u001b[0;31mKeyboardInterrupt\u001b[0m                         Traceback (most recent call last)",
      "\u001b[0;32m<ipython-input-1-f9e120a57bf1>\u001b[0m in \u001b[0;36m<module>\u001b[0;34m()\u001b[0m\n\u001b[1;32m     41\u001b[0m \u001b[0;34m\u001b[0m\u001b[0m\n\u001b[1;32m     42\u001b[0m         \u001b[0;31m# change to Chromagnon and Image-J friendly format\u001b[0m\u001b[0;34m\u001b[0m\u001b[0;34m\u001b[0m\u001b[0m\n\u001b[0;32m---> 43\u001b[0;31m         \u001b[0mim\u001b[0m \u001b[0;34m=\u001b[0m \u001b[0mtifffile\u001b[0m\u001b[0;34m.\u001b[0m\u001b[0mimread\u001b[0m\u001b[0;34m(\u001b[0m\u001b[0mfile_path\u001b[0m\u001b[0;34m)\u001b[0m\u001b[0;34m\u001b[0m\u001b[0m\n\u001b[0m\u001b[1;32m     44\u001b[0m         \u001b[0mim\u001b[0m \u001b[0;34m=\u001b[0m \u001b[0mnp\u001b[0m\u001b[0;34m.\u001b[0m\u001b[0mrollaxis\u001b[0m\u001b[0;34m(\u001b[0m\u001b[0mim\u001b[0m\u001b[0;34m,\u001b[0m\u001b[0;36m0\u001b[0m\u001b[0;34m,\u001b[0m\u001b[0;36m2\u001b[0m\u001b[0;34m)\u001b[0m\u001b[0;34m\u001b[0m\u001b[0m\n\u001b[1;32m     45\u001b[0m \u001b[0;34m\u001b[0m\u001b[0m\n",
      "\u001b[0;32m//anaconda/envs/chromagnon/lib/python2.7/site-packages/tifffile/tifffile.pyc\u001b[0m in \u001b[0;36mimread\u001b[0;34m(files, **kwargs)\u001b[0m\n\u001b[1;32m    443\u001b[0m     \u001b[0;32mif\u001b[0m \u001b[0misinstance\u001b[0m\u001b[0;34m(\u001b[0m\u001b[0mfiles\u001b[0m\u001b[0;34m,\u001b[0m \u001b[0mbasestring\u001b[0m\u001b[0;34m)\u001b[0m \u001b[0;32mor\u001b[0m \u001b[0mhasattr\u001b[0m\u001b[0;34m(\u001b[0m\u001b[0mfiles\u001b[0m\u001b[0;34m,\u001b[0m \u001b[0;34m'seek'\u001b[0m\u001b[0;34m)\u001b[0m\u001b[0;34m:\u001b[0m\u001b[0;34m\u001b[0m\u001b[0m\n\u001b[1;32m    444\u001b[0m         \u001b[0;32mwith\u001b[0m \u001b[0mTiffFile\u001b[0m\u001b[0;34m(\u001b[0m\u001b[0mfiles\u001b[0m\u001b[0;34m,\u001b[0m \u001b[0;34m**\u001b[0m\u001b[0mkwargs_file\u001b[0m\u001b[0;34m)\u001b[0m \u001b[0;32mas\u001b[0m \u001b[0mtif\u001b[0m\u001b[0;34m:\u001b[0m\u001b[0;34m\u001b[0m\u001b[0m\n\u001b[0;32m--> 445\u001b[0;31m             \u001b[0;32mreturn\u001b[0m \u001b[0mtif\u001b[0m\u001b[0;34m.\u001b[0m\u001b[0masarray\u001b[0m\u001b[0;34m(\u001b[0m\u001b[0;34m**\u001b[0m\u001b[0mkwargs\u001b[0m\u001b[0;34m)\u001b[0m\u001b[0;34m\u001b[0m\u001b[0m\n\u001b[0m\u001b[1;32m    446\u001b[0m     \u001b[0;32melse\u001b[0m\u001b[0;34m:\u001b[0m\u001b[0;34m\u001b[0m\u001b[0m\n\u001b[1;32m    447\u001b[0m         \u001b[0;32mwith\u001b[0m \u001b[0mTiffSequence\u001b[0m\u001b[0;34m(\u001b[0m\u001b[0mfiles\u001b[0m\u001b[0;34m,\u001b[0m \u001b[0;34m**\u001b[0m\u001b[0mkwargs_seq\u001b[0m\u001b[0;34m)\u001b[0m \u001b[0;32mas\u001b[0m \u001b[0mimseq\u001b[0m\u001b[0;34m:\u001b[0m\u001b[0;34m\u001b[0m\u001b[0m\n",
      "\u001b[0;32m//anaconda/envs/chromagnon/lib/python2.7/site-packages/tifffile/tifffile.pyc\u001b[0m in \u001b[0;36masarray\u001b[0;34m(self, key, series, out, validate, maxworkers)\u001b[0m\n\u001b[1;32m   1864\u001b[0m         \u001b[0;32mif\u001b[0m \u001b[0mseries\u001b[0m \u001b[0;32mis\u001b[0m \u001b[0;32mnot\u001b[0m \u001b[0mNone\u001b[0m\u001b[0;34m:\u001b[0m\u001b[0;34m\u001b[0m\u001b[0m\n\u001b[1;32m   1865\u001b[0m             \u001b[0;32mtry\u001b[0m\u001b[0;34m:\u001b[0m\u001b[0;34m\u001b[0m\u001b[0m\n\u001b[0;32m-> 1866\u001b[0;31m                 \u001b[0mseries\u001b[0m \u001b[0;34m=\u001b[0m \u001b[0mself\u001b[0m\u001b[0;34m.\u001b[0m\u001b[0mseries\u001b[0m\u001b[0;34m[\u001b[0m\u001b[0mseries\u001b[0m\u001b[0;34m]\u001b[0m\u001b[0;34m\u001b[0m\u001b[0m\n\u001b[0m\u001b[1;32m   1867\u001b[0m             \u001b[0;32mexcept\u001b[0m \u001b[0;34m(\u001b[0m\u001b[0mKeyError\u001b[0m\u001b[0;34m,\u001b[0m \u001b[0mTypeError\u001b[0m\u001b[0;34m)\u001b[0m\u001b[0;34m:\u001b[0m\u001b[0;34m\u001b[0m\u001b[0m\n\u001b[1;32m   1868\u001b[0m                 \u001b[0;32mpass\u001b[0m\u001b[0;34m\u001b[0m\u001b[0m\n",
      "\u001b[0;32m//anaconda/envs/chromagnon/lib/python2.7/site-packages/tifffile/tifffile.pyc\u001b[0m in \u001b[0;36m__get__\u001b[0;34m(self, instance, owner)\u001b[0m\n\u001b[1;32m    611\u001b[0m             \u001b[0;32mreturn\u001b[0m \u001b[0mself\u001b[0m\u001b[0;34m\u001b[0m\u001b[0m\n\u001b[1;32m    612\u001b[0m         \u001b[0;32mtry\u001b[0m\u001b[0;34m:\u001b[0m\u001b[0;34m\u001b[0m\u001b[0m\n\u001b[0;32m--> 613\u001b[0;31m             \u001b[0mvalue\u001b[0m \u001b[0;34m=\u001b[0m \u001b[0mself\u001b[0m\u001b[0;34m.\u001b[0m\u001b[0mfunc\u001b[0m\u001b[0;34m(\u001b[0m\u001b[0minstance\u001b[0m\u001b[0;34m)\u001b[0m\u001b[0;34m\u001b[0m\u001b[0m\n\u001b[0m\u001b[1;32m    614\u001b[0m         \u001b[0;32mexcept\u001b[0m \u001b[0mAttributeError\u001b[0m \u001b[0;32mas\u001b[0m \u001b[0me\u001b[0m\u001b[0;34m:\u001b[0m\u001b[0;34m\u001b[0m\u001b[0m\n\u001b[1;32m    615\u001b[0m             \u001b[0;32mraise\u001b[0m \u001b[0mRuntimeError\u001b[0m\u001b[0;34m(\u001b[0m\u001b[0me\u001b[0m\u001b[0;34m)\u001b[0m\u001b[0;34m\u001b[0m\u001b[0m\n",
      "\u001b[0;32m//anaconda/envs/chromagnon/lib/python2.7/site-packages/tifffile/tifffile.pyc\u001b[0m in \u001b[0;36mseries\u001b[0;34m(self)\u001b[0m\n\u001b[1;32m   1941\u001b[0m         \u001b[0;32mfor\u001b[0m \u001b[0mname\u001b[0m \u001b[0;32min\u001b[0m \u001b[0;34m'ome imagej lsm fluoview nih mdgel shaped'\u001b[0m\u001b[0;34m.\u001b[0m\u001b[0msplit\u001b[0m\u001b[0;34m(\u001b[0m\u001b[0;34m)\u001b[0m\u001b[0;34m:\u001b[0m\u001b[0;34m\u001b[0m\u001b[0m\n\u001b[1;32m   1942\u001b[0m             \u001b[0;32mif\u001b[0m \u001b[0mgetattr\u001b[0m\u001b[0;34m(\u001b[0m\u001b[0mself\u001b[0m\u001b[0;34m,\u001b[0m \u001b[0;34m'is_'\u001b[0m \u001b[0;34m+\u001b[0m \u001b[0mname\u001b[0m\u001b[0;34m,\u001b[0m \u001b[0mFalse\u001b[0m\u001b[0;34m)\u001b[0m\u001b[0;34m:\u001b[0m\u001b[0;34m\u001b[0m\u001b[0m\n\u001b[0;32m-> 1943\u001b[0;31m                 \u001b[0mseries\u001b[0m \u001b[0;34m=\u001b[0m \u001b[0mgetattr\u001b[0m\u001b[0;34m(\u001b[0m\u001b[0mself\u001b[0m\u001b[0;34m,\u001b[0m \u001b[0;34m'_%s_series'\u001b[0m \u001b[0;34m%\u001b[0m \u001b[0mname\u001b[0m\u001b[0;34m)\u001b[0m\u001b[0;34m(\u001b[0m\u001b[0;34m)\u001b[0m\u001b[0;34m\u001b[0m\u001b[0m\n\u001b[0m\u001b[1;32m   1944\u001b[0m                 \u001b[0;32mbreak\u001b[0m\u001b[0;34m\u001b[0m\u001b[0m\n\u001b[1;32m   1945\u001b[0m         \u001b[0mself\u001b[0m\u001b[0;34m.\u001b[0m\u001b[0mpages\u001b[0m\u001b[0;34m.\u001b[0m\u001b[0museframes\u001b[0m \u001b[0;34m=\u001b[0m \u001b[0museframes\u001b[0m\u001b[0;34m\u001b[0m\u001b[0m\n",
      "\u001b[0;32m//anaconda/envs/chromagnon/lib/python2.7/site-packages/tifffile/tifffile.pyc\u001b[0m in \u001b[0;36m_ome_series\u001b[0;34m(self)\u001b[0m\n\u001b[1;32m   2224\u001b[0m         \u001b[0mself\u001b[0m\u001b[0;34m.\u001b[0m\u001b[0mpages\u001b[0m\u001b[0;34m.\u001b[0m\u001b[0museframes\u001b[0m \u001b[0;34m=\u001b[0m \u001b[0mTrue\u001b[0m\u001b[0;34m\u001b[0m\u001b[0m\n\u001b[1;32m   2225\u001b[0m         \u001b[0mself\u001b[0m\u001b[0;34m.\u001b[0m\u001b[0mpages\u001b[0m\u001b[0;34m.\u001b[0m\u001b[0mkeyframe\u001b[0m \u001b[0;34m=\u001b[0m \u001b[0;36m0\u001b[0m\u001b[0;34m\u001b[0m\u001b[0m\n\u001b[0;32m-> 2226\u001b[0;31m         \u001b[0mself\u001b[0m\u001b[0;34m.\u001b[0m\u001b[0mpages\u001b[0m\u001b[0;34m.\u001b[0m\u001b[0mload\u001b[0m\u001b[0;34m(\u001b[0m\u001b[0;34m)\u001b[0m\u001b[0;34m\u001b[0m\u001b[0m\n\u001b[0m\u001b[1;32m   2227\u001b[0m \u001b[0;34m\u001b[0m\u001b[0m\n\u001b[1;32m   2228\u001b[0m         \u001b[0muuid\u001b[0m \u001b[0;34m=\u001b[0m \u001b[0mroot\u001b[0m\u001b[0;34m.\u001b[0m\u001b[0mattrib\u001b[0m\u001b[0;34m.\u001b[0m\u001b[0mget\u001b[0m\u001b[0;34m(\u001b[0m\u001b[0;34m'UUID'\u001b[0m\u001b[0;34m,\u001b[0m \u001b[0mNone\u001b[0m\u001b[0;34m)\u001b[0m\u001b[0;34m\u001b[0m\u001b[0m\n",
      "\u001b[0;32m//anaconda/envs/chromagnon/lib/python2.7/site-packages/tifffile/tifffile.pyc\u001b[0m in \u001b[0;36mload\u001b[0;34m(self)\u001b[0m\n\u001b[1;32m   2913\u001b[0m             \u001b[0;32mif\u001b[0m \u001b[0misinstance\u001b[0m\u001b[0;34m(\u001b[0m\u001b[0mpage\u001b[0m\u001b[0;34m,\u001b[0m \u001b[0minttypes\u001b[0m\u001b[0;34m)\u001b[0m\u001b[0;34m:\u001b[0m\u001b[0;34m\u001b[0m\u001b[0m\n\u001b[1;32m   2914\u001b[0m                 \u001b[0mfh\u001b[0m\u001b[0;34m.\u001b[0m\u001b[0mseek\u001b[0m\u001b[0;34m(\u001b[0m\u001b[0mpage\u001b[0m\u001b[0;34m)\u001b[0m\u001b[0;34m\u001b[0m\u001b[0m\n\u001b[0;32m-> 2915\u001b[0;31m                 \u001b[0mpage\u001b[0m \u001b[0;34m=\u001b[0m \u001b[0mself\u001b[0m\u001b[0;34m.\u001b[0m\u001b[0m_tiffpage\u001b[0m\u001b[0;34m(\u001b[0m\u001b[0mself\u001b[0m\u001b[0;34m.\u001b[0m\u001b[0mparent\u001b[0m\u001b[0;34m,\u001b[0m \u001b[0mindex\u001b[0m\u001b[0;34m=\u001b[0m\u001b[0mi\u001b[0m\u001b[0;34m,\u001b[0m \u001b[0mkeyframe\u001b[0m\u001b[0;34m=\u001b[0m\u001b[0mkeyframe\u001b[0m\u001b[0;34m)\u001b[0m\u001b[0;34m\u001b[0m\u001b[0m\n\u001b[0m\u001b[1;32m   2916\u001b[0m                 \u001b[0mpages\u001b[0m\u001b[0;34m[\u001b[0m\u001b[0mi\u001b[0m\u001b[0;34m]\u001b[0m \u001b[0;34m=\u001b[0m \u001b[0mpage\u001b[0m\u001b[0;34m\u001b[0m\u001b[0m\n\u001b[1;32m   2917\u001b[0m \u001b[0;34m\u001b[0m\u001b[0m\n",
      "\u001b[0;32m//anaconda/envs/chromagnon/lib/python2.7/site-packages/tifffile/tifffile.pyc\u001b[0m in \u001b[0;36m__init__\u001b[0;34m(self, parent, index, keyframe)\u001b[0m\n\u001b[1;32m   3140\u001b[0m             \u001b[0mindex\u001b[0m \u001b[0;34m+=\u001b[0m \u001b[0mtagsize\u001b[0m\u001b[0;34m\u001b[0m\u001b[0m\n\u001b[1;32m   3141\u001b[0m             \u001b[0;32mtry\u001b[0m\u001b[0;34m:\u001b[0m\u001b[0;34m\u001b[0m\u001b[0m\n\u001b[0;32m-> 3142\u001b[0;31m                 \u001b[0mtag\u001b[0m \u001b[0;34m=\u001b[0m \u001b[0mTiffTag\u001b[0m\u001b[0;34m(\u001b[0m\u001b[0mself\u001b[0m\u001b[0;34m.\u001b[0m\u001b[0mparent\u001b[0m\u001b[0;34m,\u001b[0m \u001b[0mdata\u001b[0m\u001b[0;34m[\u001b[0m\u001b[0mindex\u001b[0m\u001b[0;34m:\u001b[0m\u001b[0mindex\u001b[0m\u001b[0;34m+\u001b[0m\u001b[0mtagsize\u001b[0m\u001b[0;34m]\u001b[0m\u001b[0;34m)\u001b[0m\u001b[0;34m\u001b[0m\u001b[0m\n\u001b[0m\u001b[1;32m   3143\u001b[0m             \u001b[0;32mexcept\u001b[0m \u001b[0mTiffTag\u001b[0m\u001b[0;34m.\u001b[0m\u001b[0mError\u001b[0m \u001b[0;32mas\u001b[0m \u001b[0me\u001b[0m\u001b[0;34m:\u001b[0m\u001b[0;34m\u001b[0m\u001b[0m\n\u001b[1;32m   3144\u001b[0m                 \u001b[0mwarnings\u001b[0m\u001b[0;34m.\u001b[0m\u001b[0mwarn\u001b[0m\u001b[0;34m(\u001b[0m\u001b[0mstr\u001b[0m\u001b[0;34m(\u001b[0m\u001b[0me\u001b[0m\u001b[0;34m)\u001b[0m\u001b[0;34m)\u001b[0m\u001b[0;34m\u001b[0m\u001b[0m\n",
      "\u001b[0;32m//anaconda/envs/chromagnon/lib/python2.7/site-packages/tifffile/tifffile.pyc\u001b[0m in \u001b[0;36m__init__\u001b[0;34m(self, parent, tagheader, **kwargs)\u001b[0m\n\u001b[1;32m   4233\u001b[0m             \u001b[0;32mraise\u001b[0m \u001b[0mTiffTag\u001b[0m\u001b[0;34m.\u001b[0m\u001b[0mError\u001b[0m\u001b[0;34m(\u001b[0m\u001b[0;34m'unknown tag data type %i'\u001b[0m \u001b[0;34m%\u001b[0m \u001b[0mtype_\u001b[0m\u001b[0;34m)\u001b[0m\u001b[0;34m\u001b[0m\u001b[0m\n\u001b[1;32m   4234\u001b[0m \u001b[0;34m\u001b[0m\u001b[0m\n\u001b[0;32m-> 4235\u001b[0;31m         \u001b[0mfmt\u001b[0m \u001b[0;34m=\u001b[0m \u001b[0;34m'%s%i%s'\u001b[0m \u001b[0;34m%\u001b[0m \u001b[0;34m(\u001b[0m\u001b[0mbyteorder\u001b[0m\u001b[0;34m,\u001b[0m \u001b[0mcount\u001b[0m \u001b[0;34m*\u001b[0m \u001b[0mint\u001b[0m\u001b[0;34m(\u001b[0m\u001b[0mdtype\u001b[0m\u001b[0;34m[\u001b[0m\u001b[0;36m0\u001b[0m\u001b[0;34m]\u001b[0m\u001b[0;34m)\u001b[0m\u001b[0;34m,\u001b[0m \u001b[0mdtype\u001b[0m\u001b[0;34m[\u001b[0m\u001b[0;36m1\u001b[0m\u001b[0;34m]\u001b[0m\u001b[0;34m)\u001b[0m\u001b[0;34m\u001b[0m\u001b[0m\n\u001b[0m\u001b[1;32m   4236\u001b[0m         \u001b[0msize\u001b[0m \u001b[0;34m=\u001b[0m \u001b[0mstruct\u001b[0m\u001b[0;34m.\u001b[0m\u001b[0mcalcsize\u001b[0m\u001b[0;34m(\u001b[0m\u001b[0mfmt\u001b[0m\u001b[0;34m)\u001b[0m\u001b[0;34m\u001b[0m\u001b[0m\n\u001b[1;32m   4237\u001b[0m         \u001b[0;32mif\u001b[0m \u001b[0msize\u001b[0m \u001b[0;34m>\u001b[0m \u001b[0moffsetsize\u001b[0m \u001b[0;32mor\u001b[0m \u001b[0mcode\u001b[0m \u001b[0;32min\u001b[0m \u001b[0mTIFF\u001b[0m\u001b[0;34m.\u001b[0m\u001b[0mTAG_READERS\u001b[0m\u001b[0;34m:\u001b[0m\u001b[0;34m\u001b[0m\u001b[0m\n",
      "\u001b[0;31mKeyboardInterrupt\u001b[0m: "
     ]
    }
   ],
   "source": [
    "# Process .ome.tiffs for cshift correction in Chromagnon\n",
    "#\n",
    "# 1. Convert from .ome.tiff to .tiff\n",
    "# 2. Create lists of target files and reference tiles\n",
    "# 3. Manually copy and past lists into command line to run Chromagnon screen session\n",
    "#\n",
    "# ----TO DO----\n",
    "#\n",
    "# 1. Could probably combine the lists into a dictionary and iterate through to \n",
    "#    run the whole code in Python using subprocess\n",
    "#\n",
    "# ----USAGE----\n",
    "#\n",
    "# 1. Command > screen -S cshift\n",
    "# 2. Command > conda activate chromagnon\n",
    "# 3. Command > chromagnon target_list -R reference_list -E dv\n",
    "# 4. Saves the aligned files as dv to be deconvolved in Huygens\n",
    "\n",
    "import numpy as np\n",
    "import tifffile\n",
    "import os\n",
    "\n",
    "# Get infiles\n",
    "indir = '/Volumes/bioc1301/data/20190313_AdultBrain_MB077c_CamKYFP_smFISH_learning/'\n",
    "infiles = os.listdir(indir)\n",
    "\n",
    "# Setup outdir\n",
    "if not os.path.exists(os.path.join(indir, 'aligned')):\n",
    "    os.makedirs(os.path.join(indir, 'aligned'))\n",
    "    outdir = os.path.join(indir, 'aligned')\n",
    "else: \n",
    "    print 'aligned directory already exists'\n",
    "    \n",
    "# Convert .ome.tiff to .tiff \n",
    "for file in infiles: \n",
    "    if file.endswith('.tiff'):\n",
    "        \n",
    "        file_path = os.path.join(indir, file)\n",
    "        print 'old file is:', file_path\n",
    "        out_file = os.path.join(outdir, file.split('.')[0]+'.tif')\n",
    "        \n",
    "        # change to Chromagnon and Image-J friendly format\n",
    "        im = tifffile.imread(file_path)\n",
    "        im = np.rollaxis(im,0,2)\n",
    "        \n",
    "        # save the file \n",
    "        tifffile.imsave(out_file, im, imagej = True)\n",
    "\n",
    "        print 'new file is:', out_file\n",
    "        \n"
   ]
  },
  {
   "cell_type": "code",
   "execution_count": 111,
   "metadata": {},
   "outputs": [],
   "source": [
    "# Make lists of target and reference files for chromagnon\n",
    "\n",
    "import os\n",
    "outdir = '/Volumes/bioc1301/data/20190220_AdultBrain_MB077c_CamKYFP_smFISH_learning/aligned/'\n",
    "infiles = os.listdir(outdir)\n",
    "\n",
    "# Initialise lists\n",
    "ref_files = []\n",
    "targ_files = []\n",
    "\n",
    "# Populate lists\n",
    "for file in infiles:\n",
    "    if file.endswith('.tif'):\n",
    "        \n",
    "        # Populate reference file list\n",
    "        if file.endswith ('calibration.tif'):\n",
    "            \n",
    "            # There is one calibration per image file, so add it thrice\n",
    "            ref_files.append(file)\n",
    "            ref_files.append(file)\n",
    "            ref_files.append(file)\n",
    "            \n",
    "        # Populate target file list    \n",
    "        else:\n",
    "            targ_files.append(file)\n"
   ]
  },
  {
   "cell_type": "code",
   "execution_count": 115,
   "metadata": {},
   "outputs": [
    {
     "data": {
      "text/plain": [
       "'20190220_MB077c_CamkIIYFP_670_myrSNAP549_violet_1hr_p1_calibration.tif 20190220_MB077c_CamkIIYFP_670_myrSNAP549_violet_1hr_p1_calibration.tif 20190220_MB077c_CamkIIYFP_670_myrSNAP549_violet_1hr_p1_calibration.tif 20190220_MB077c_CamkIIYFP_670_myrSNAP549_violet_1hr_p2_calibration.tif 20190220_MB077c_CamkIIYFP_670_myrSNAP549_violet_1hr_p2_calibration.tif 20190220_MB077c_CamkIIYFP_670_myrSNAP549_violet_1hr_p2_calibration.tif 20190220_MB077c_CamkIIYFP_670_myrSNAP549_violet_1hr_p3_calibration.tif 20190220_MB077c_CamkIIYFP_670_myrSNAP549_violet_1hr_p3_calibration.tif 20190220_MB077c_CamkIIYFP_670_myrSNAP549_violet_1hr_p3_calibration.tif 20190220_MB077c_CamkIIYFP_670_myrSNAP549_violet_1hr_p4_calibration.tif 20190220_MB077c_CamkIIYFP_670_myrSNAP549_violet_1hr_p4_calibration.tif 20190220_MB077c_CamkIIYFP_670_myrSNAP549_violet_1hr_p4_calibration.tif 20190220_MB077c_CamkIIYFP_670_myrSNAP549_violet_1hr_p5_calibration.tif 20190220_MB077c_CamkIIYFP_670_myrSNAP549_violet_1hr_p5_calibration.tif 20190220_MB077c_CamkIIYFP_670_myrSNAP549_violet_1hr_p5_calibration.tif 20190220_MB077c_CamkIIYFP_670_myrSNAP549_violet_1hr_p6_calibration.tif 20190220_MB077c_CamkIIYFP_670_myrSNAP549_violet_1hr_p6_calibration.tif 20190220_MB077c_CamkIIYFP_670_myrSNAP549_violet_1hr_p6_calibration.tif 20190220_MB077c_CamkIIYFP_670_myrSNAP549_violet_1hr_p7_calibration.tif 20190220_MB077c_CamkIIYFP_670_myrSNAP549_violet_1hr_p7_calibration.tif 20190220_MB077c_CamkIIYFP_670_myrSNAP549_violet_1hr_p7_calibration.tif 20190220_MB077c_CamkIIYFP_670_myrSNAP549_violet_1hr_p8_calibration.tif 20190220_MB077c_CamkIIYFP_670_myrSNAP549_violet_1hr_p8_calibration.tif 20190220_MB077c_CamkIIYFP_670_myrSNAP549_violet_1hr_p8_calibration.tif 20190220_MB077c_CamkIIYFP_670_myrSNAP549_violet_2hr_p1_calibration.tif 20190220_MB077c_CamkIIYFP_670_myrSNAP549_violet_2hr_p1_calibration.tif 20190220_MB077c_CamkIIYFP_670_myrSNAP549_violet_2hr_p1_calibration.tif 20190220_MB077c_CamkIIYFP_670_myrSNAP549_violet_2hr_p2_calibration.tif 20190220_MB077c_CamkIIYFP_670_myrSNAP549_violet_2hr_p2_calibration.tif 20190220_MB077c_CamkIIYFP_670_myrSNAP549_violet_2hr_p2_calibration.tif 20190220_MB077c_CamkIIYFP_670_myrSNAP549_violet_2hr_p4_calibration.tif 20190220_MB077c_CamkIIYFP_670_myrSNAP549_violet_2hr_p4_calibration.tif 20190220_MB077c_CamkIIYFP_670_myrSNAP549_violet_2hr_p4_calibration.tif 20190220_MB077c_CamkIIYFP_670_myrSNAP549_violet_2hr_p5_calibration.tif 20190220_MB077c_CamkIIYFP_670_myrSNAP549_violet_2hr_p5_calibration.tif 20190220_MB077c_CamkIIYFP_670_myrSNAP549_violet_2hr_p5_calibration.tif 20190220_MB077c_CamkIIYFP_670_myrSNAP549_violet_2hr_p6_calibration.tif 20190220_MB077c_CamkIIYFP_670_myrSNAP549_violet_2hr_p6_calibration.tif 20190220_MB077c_CamkIIYFP_670_myrSNAP549_violet_2hr_p6_calibration.tif 20190220_MB077c_CamkIIYFP_670_myrSNAP549_violet_2hr_p7_calibration.tif 20190220_MB077c_CamkIIYFP_670_myrSNAP549_violet_2hr_p7_calibration.tif 20190220_MB077c_CamkIIYFP_670_myrSNAP549_violet_2hr_p7_calibration.tif 20190220_MB077c_CamkIIYFP_670_myrSNAP549_violet_Im_p1_calibration.tif 20190220_MB077c_CamkIIYFP_670_myrSNAP549_violet_Im_p1_calibration.tif 20190220_MB077c_CamkIIYFP_670_myrSNAP549_violet_Im_p1_calibration.tif 20190220_MB077c_CamkIIYFP_670_myrSNAP549_violet_Im_p2_calibration.tif 20190220_MB077c_CamkIIYFP_670_myrSNAP549_violet_Im_p2_calibration.tif 20190220_MB077c_CamkIIYFP_670_myrSNAP549_violet_Im_p2_calibration.tif 20190220_MB077c_CamkIIYFP_670_myrSNAP549_violet_Im_p4_calibration.tif 20190220_MB077c_CamkIIYFP_670_myrSNAP549_violet_Im_p4_calibration.tif 20190220_MB077c_CamkIIYFP_670_myrSNAP549_violet_Im_p4_calibration.tif 20190220_MB077c_CamkIIYFP_670_myrSNAP549_violet_Im_p5_calibration.tif 20190220_MB077c_CamkIIYFP_670_myrSNAP549_violet_Im_p5_calibration.tif 20190220_MB077c_CamkIIYFP_670_myrSNAP549_violet_Im_p5_calibration.tif 20190220_MB077c_CamkIIYFP_670_myrSNAP549_violet_Im_p6_calibration.tif 20190220_MB077c_CamkIIYFP_670_myrSNAP549_violet_Im_p6_calibration.tif 20190220_MB077c_CamkIIYFP_670_myrSNAP549_violet_Im_p6_calibration.tif 20190220_MB077c_CamkIIYFP_670_myrSNAP549_violet_Im_p7_calibration.tif 20190220_MB077c_CamkIIYFP_670_myrSNAP549_violet_Im_p7_calibration.tif 20190220_MB077c_CamkIIYFP_670_myrSNAP549_violet_Im_p7_calibration.tif 20190220_MB077c_CamkIIYFP_670_myrSNAP549_violet_O_p1_calibration.tif 20190220_MB077c_CamkIIYFP_670_myrSNAP549_violet_O_p1_calibration.tif 20190220_MB077c_CamkIIYFP_670_myrSNAP549_violet_O_p1_calibration.tif 20190220_MB077c_CamkIIYFP_670_myrSNAP549_violet_O_p2_calibration.tif 20190220_MB077c_CamkIIYFP_670_myrSNAP549_violet_O_p2_calibration.tif 20190220_MB077c_CamkIIYFP_670_myrSNAP549_violet_O_p2_calibration.tif 20190220_MB077c_CamkIIYFP_670_myrSNAP549_violet_O_p3_calibration.tif 20190220_MB077c_CamkIIYFP_670_myrSNAP549_violet_O_p3_calibration.tif 20190220_MB077c_CamkIIYFP_670_myrSNAP549_violet_O_p3_calibration.tif 20190220_MB077c_CamkIIYFP_670_myrSNAP549_violet_O_p4_calibration.tif 20190220_MB077c_CamkIIYFP_670_myrSNAP549_violet_O_p4_calibration.tif 20190220_MB077c_CamkIIYFP_670_myrSNAP549_violet_O_p4_calibration.tif 20190220_MB077c_CamkIIYFP_670_myrSNAP549_violet_O_p5_calibration.tif 20190220_MB077c_CamkIIYFP_670_myrSNAP549_violet_O_p5_calibration.tif 20190220_MB077c_CamkIIYFP_670_myrSNAP549_violet_O_p5_calibration.tif 20190220_MB077c_CamkIIYFP_670_myrSNAP549_violet_O_p6_calibration.tif 20190220_MB077c_CamkIIYFP_670_myrSNAP549_violet_O_p6_calibration.tif 20190220_MB077c_CamkIIYFP_670_myrSNAP549_violet_O_p6_calibration.tif 20190220_MB077c_CamkIIYFP_670_myrSNAP549_violet_O_p7_calibration.tif 20190220_MB077c_CamkIIYFP_670_myrSNAP549_violet_O_p7_calibration.tif 20190220_MB077c_CamkIIYFP_670_myrSNAP549_violet_O_p7_calibration.tif 20190220_MB077c_CamkIIYFP_670_myrSNAP549_violet_S_p1_calibration.tif 20190220_MB077c_CamkIIYFP_670_myrSNAP549_violet_S_p1_calibration.tif 20190220_MB077c_CamkIIYFP_670_myrSNAP549_violet_S_p1_calibration.tif 20190220_MB077c_CamkIIYFP_670_myrSNAP549_violet_S_p2_calibration.tif 20190220_MB077c_CamkIIYFP_670_myrSNAP549_violet_S_p2_calibration.tif 20190220_MB077c_CamkIIYFP_670_myrSNAP549_violet_S_p2_calibration.tif 20190220_MB077c_CamkIIYFP_670_myrSNAP549_violet_S_p3_calibration.tif 20190220_MB077c_CamkIIYFP_670_myrSNAP549_violet_S_p3_calibration.tif 20190220_MB077c_CamkIIYFP_670_myrSNAP549_violet_S_p3_calibration.tif 20190220_MB077c_CamkIIYFP_670_myrSNAP549_violet_S_p5_calibration.tif 20190220_MB077c_CamkIIYFP_670_myrSNAP549_violet_S_p5_calibration.tif 20190220_MB077c_CamkIIYFP_670_myrSNAP549_violet_S_p5_calibration.tif 20190220_MB077c_CamkIIYFP_670_myrSNAP549_violet_S_p6_calibration.tif 20190220_MB077c_CamkIIYFP_670_myrSNAP549_violet_S_p6_calibration.tif 20190220_MB077c_CamkIIYFP_670_myrSNAP549_violet_S_p6_calibration.tif 20190220_MB077c_CamkIIYFP_670_myrSNAP549_violet_S_p8_calibration.tif 20190220_MB077c_CamkIIYFP_670_myrSNAP549_violet_S_p8_calibration.tif 20190220_MB077c_CamkIIYFP_670_myrSNAP549_violet_S_p8_calibration.tif 20190220_MB077c_CamkIIYFP_670_myrSNAP549_violet_Ut_p1_calibration.tif 20190220_MB077c_CamkIIYFP_670_myrSNAP549_violet_Ut_p1_calibration.tif 20190220_MB077c_CamkIIYFP_670_myrSNAP549_violet_Ut_p1_calibration.tif 20190220_MB077c_CamkIIYFP_670_myrSNAP549_violet_Ut_p2_calibration.tif 20190220_MB077c_CamkIIYFP_670_myrSNAP549_violet_Ut_p2_calibration.tif 20190220_MB077c_CamkIIYFP_670_myrSNAP549_violet_Ut_p2_calibration.tif 20190220_MB077c_CamkIIYFP_670_myrSNAP549_violet_Ut_p3_calibration.tif 20190220_MB077c_CamkIIYFP_670_myrSNAP549_violet_Ut_p3_calibration.tif 20190220_MB077c_CamkIIYFP_670_myrSNAP549_violet_Ut_p3_calibration.tif 20190220_MB077c_CamkIIYFP_670_myrSNAP549_violet_Ut_p4_calibration.tif 20190220_MB077c_CamkIIYFP_670_myrSNAP549_violet_Ut_p4_calibration.tif 20190220_MB077c_CamkIIYFP_670_myrSNAP549_violet_Ut_p4_calibration.tif 20190220_MB077c_CamkIIYFP_670_myrSNAP549_violet_Ut_p5_calibration.tif 20190220_MB077c_CamkIIYFP_670_myrSNAP549_violet_Ut_p5_calibration.tif 20190220_MB077c_CamkIIYFP_670_myrSNAP549_violet_Ut_p5_calibration.tif 20190220_MB077c_CamkIIYFP_670_myrSNAP549_violet_Ut_p6_calibration.tif 20190220_MB077c_CamkIIYFP_670_myrSNAP549_violet_Ut_p6_calibration.tif 20190220_MB077c_CamkIIYFP_670_myrSNAP549_violet_Ut_p6_calibration.tif'"
      ]
     },
     "execution_count": 115,
     "metadata": {},
     "output_type": "execute_result"
    }
   ],
   "source": [
    "# Alphabetise the list and print it with spaces\n",
    "# Copy the list and past directly into the command line\n",
    "\n",
    "ref_files.sort()\n",
    "' '.join(ref_files)"
   ]
  },
  {
   "cell_type": "code",
   "execution_count": 116,
   "metadata": {},
   "outputs": [
    {
     "data": {
      "text/plain": [
       "'20190220_MB077c_CamkIIYFP_670_myrSNAP549_violet_1hr_p1lMB.tif 20190220_MB077c_CamkIIYFP_670_myrSNAP549_violet_1hr_p1rMB.tif 20190220_MB077c_CamkIIYFP_670_myrSNAP549_violet_1hr_p1soma.tif 20190220_MB077c_CamkIIYFP_670_myrSNAP549_violet_1hr_p2lMB.tif 20190220_MB077c_CamkIIYFP_670_myrSNAP549_violet_1hr_p2rMB.tif 20190220_MB077c_CamkIIYFP_670_myrSNAP549_violet_1hr_p2soma.tif 20190220_MB077c_CamkIIYFP_670_myrSNAP549_violet_1hr_p3lMb.tif 20190220_MB077c_CamkIIYFP_670_myrSNAP549_violet_1hr_p3rMb.tif 20190220_MB077c_CamkIIYFP_670_myrSNAP549_violet_1hr_p3soma.tif 20190220_MB077c_CamkIIYFP_670_myrSNAP549_violet_1hr_p4lMB.tif 20190220_MB077c_CamkIIYFP_670_myrSNAP549_violet_1hr_p4rMB.tif 20190220_MB077c_CamkIIYFP_670_myrSNAP549_violet_1hr_p4soma.tif 20190220_MB077c_CamkIIYFP_670_myrSNAP549_violet_1hr_p5lMB.tif 20190220_MB077c_CamkIIYFP_670_myrSNAP549_violet_1hr_p5rMB.tif 20190220_MB077c_CamkIIYFP_670_myrSNAP549_violet_1hr_p5soma.tif 20190220_MB077c_CamkIIYFP_670_myrSNAP549_violet_1hr_p6lMB.tif 20190220_MB077c_CamkIIYFP_670_myrSNAP549_violet_1hr_p6rMB.tif 20190220_MB077c_CamkIIYFP_670_myrSNAP549_violet_1hr_p6soma.tif 20190220_MB077c_CamkIIYFP_670_myrSNAP549_violet_1hr_p7lMB.tif 20190220_MB077c_CamkIIYFP_670_myrSNAP549_violet_1hr_p7rMB.tif 20190220_MB077c_CamkIIYFP_670_myrSNAP549_violet_1hr_p7soma.tif 20190220_MB077c_CamkIIYFP_670_myrSNAP549_violet_1hr_p8lMB.tif 20190220_MB077c_CamkIIYFP_670_myrSNAP549_violet_1hr_p8rMB.tif 20190220_MB077c_CamkIIYFP_670_myrSNAP549_violet_1hr_p8rsoma.tif 20190220_MB077c_CamkIIYFP_670_myrSNAP549_violet_2hr_p1lMB.tif 20190220_MB077c_CamkIIYFP_670_myrSNAP549_violet_2hr_p1rMB.tif 20190220_MB077c_CamkIIYFP_670_myrSNAP549_violet_2hr_p1soma.tif 20190220_MB077c_CamkIIYFP_670_myrSNAP549_violet_2hr_p2lMB.tif 20190220_MB077c_CamkIIYFP_670_myrSNAP549_violet_2hr_p2rMB.tif 20190220_MB077c_CamkIIYFP_670_myrSNAP549_violet_2hr_p2soma.tif 20190220_MB077c_CamkIIYFP_670_myrSNAP549_violet_2hr_p4lMB.tif 20190220_MB077c_CamkIIYFP_670_myrSNAP549_violet_2hr_p4rMB.tif 20190220_MB077c_CamkIIYFP_670_myrSNAP549_violet_2hr_p4soma.tif 20190220_MB077c_CamkIIYFP_670_myrSNAP549_violet_2hr_p5lMB.tif 20190220_MB077c_CamkIIYFP_670_myrSNAP549_violet_2hr_p5rMB.tif 20190220_MB077c_CamkIIYFP_670_myrSNAP549_violet_2hr_p5soma.tif 20190220_MB077c_CamkIIYFP_670_myrSNAP549_violet_2hr_p6lMB.tif 20190220_MB077c_CamkIIYFP_670_myrSNAP549_violet_2hr_p6rMB.tif 20190220_MB077c_CamkIIYFP_670_myrSNAP549_violet_2hr_p6soma.tif 20190220_MB077c_CamkIIYFP_670_myrSNAP549_violet_2hr_p7lMB.tif 20190220_MB077c_CamkIIYFP_670_myrSNAP549_violet_2hr_p7rMB.tif 20190220_MB077c_CamkIIYFP_670_myrSNAP549_violet_2hr_p7soma.tif 20190220_MB077c_CamkIIYFP_670_myrSNAP549_violet_Im_p1lMB.tif 20190220_MB077c_CamkIIYFP_670_myrSNAP549_violet_Im_p1rMB.tif 20190220_MB077c_CamkIIYFP_670_myrSNAP549_violet_Im_p1soma.tif 20190220_MB077c_CamkIIYFP_670_myrSNAP549_violet_Im_p2lMB.tif 20190220_MB077c_CamkIIYFP_670_myrSNAP549_violet_Im_p2rMB.tif 20190220_MB077c_CamkIIYFP_670_myrSNAP549_violet_Im_p2soma.tif 20190220_MB077c_CamkIIYFP_670_myrSNAP549_violet_Im_p4lMB.tif 20190220_MB077c_CamkIIYFP_670_myrSNAP549_violet_Im_p4rMB.tif 20190220_MB077c_CamkIIYFP_670_myrSNAP549_violet_Im_p4soma.tif 20190220_MB077c_CamkIIYFP_670_myrSNAP549_violet_Im_p5lMB.tif 20190220_MB077c_CamkIIYFP_670_myrSNAP549_violet_Im_p5rMB.tif 20190220_MB077c_CamkIIYFP_670_myrSNAP549_violet_Im_p5soma.tif 20190220_MB077c_CamkIIYFP_670_myrSNAP549_violet_Im_p6lMB.tif 20190220_MB077c_CamkIIYFP_670_myrSNAP549_violet_Im_p6rMB.tif 20190220_MB077c_CamkIIYFP_670_myrSNAP549_violet_Im_p6soma.tif 20190220_MB077c_CamkIIYFP_670_myrSNAP549_violet_Im_p7lMB.tif 20190220_MB077c_CamkIIYFP_670_myrSNAP549_violet_Im_p7rMB.tif 20190220_MB077c_CamkIIYFP_670_myrSNAP549_violet_Im_p7soma.tif 20190220_MB077c_CamkIIYFP_670_myrSNAP549_violet_O_p1lMB.tif 20190220_MB077c_CamkIIYFP_670_myrSNAP549_violet_O_p1rMB.tif 20190220_MB077c_CamkIIYFP_670_myrSNAP549_violet_O_p1soma.tif 20190220_MB077c_CamkIIYFP_670_myrSNAP549_violet_O_p2lMB.tif 20190220_MB077c_CamkIIYFP_670_myrSNAP549_violet_O_p2rMB.tif 20190220_MB077c_CamkIIYFP_670_myrSNAP549_violet_O_p2soma.tif 20190220_MB077c_CamkIIYFP_670_myrSNAP549_violet_O_p3lMB.tif 20190220_MB077c_CamkIIYFP_670_myrSNAP549_violet_O_p3rMB.tif 20190220_MB077c_CamkIIYFP_670_myrSNAP549_violet_O_p3soma.tif 20190220_MB077c_CamkIIYFP_670_myrSNAP549_violet_O_p4lMB.tif 20190220_MB077c_CamkIIYFP_670_myrSNAP549_violet_O_p4rMB.tif 20190220_MB077c_CamkIIYFP_670_myrSNAP549_violet_O_p4soma.tif 20190220_MB077c_CamkIIYFP_670_myrSNAP549_violet_O_p5lMB.tif 20190220_MB077c_CamkIIYFP_670_myrSNAP549_violet_O_p5rMB.tif 20190220_MB077c_CamkIIYFP_670_myrSNAP549_violet_O_p5soma.tif 20190220_MB077c_CamkIIYFP_670_myrSNAP549_violet_O_p6lMB.tif 20190220_MB077c_CamkIIYFP_670_myrSNAP549_violet_O_p6rMB.tif 20190220_MB077c_CamkIIYFP_670_myrSNAP549_violet_O_p6soma.tif 20190220_MB077c_CamkIIYFP_670_myrSNAP549_violet_O_p7lMB.tif 20190220_MB077c_CamkIIYFP_670_myrSNAP549_violet_O_p7rMB.tif 20190220_MB077c_CamkIIYFP_670_myrSNAP549_violet_O_p7soma.tif 20190220_MB077c_CamkIIYFP_670_myrSNAP549_violet_S_p1lMB.tif 20190220_MB077c_CamkIIYFP_670_myrSNAP549_violet_S_p1rMB.tif 20190220_MB077c_CamkIIYFP_670_myrSNAP549_violet_S_p1soma.tif 20190220_MB077c_CamkIIYFP_670_myrSNAP549_violet_S_p2lMB.tif 20190220_MB077c_CamkIIYFP_670_myrSNAP549_violet_S_p2rMB.tif 20190220_MB077c_CamkIIYFP_670_myrSNAP549_violet_S_p2soma.tif 20190220_MB077c_CamkIIYFP_670_myrSNAP549_violet_S_p3lMB.tif 20190220_MB077c_CamkIIYFP_670_myrSNAP549_violet_S_p3rMB.tif 20190220_MB077c_CamkIIYFP_670_myrSNAP549_violet_S_p3soma.tif 20190220_MB077c_CamkIIYFP_670_myrSNAP549_violet_S_p5lMB.tif 20190220_MB077c_CamkIIYFP_670_myrSNAP549_violet_S_p5rMB.tif 20190220_MB077c_CamkIIYFP_670_myrSNAP549_violet_S_p5soma.tif 20190220_MB077c_CamkIIYFP_670_myrSNAP549_violet_S_p6lMB.tif 20190220_MB077c_CamkIIYFP_670_myrSNAP549_violet_S_p6rMB.tif 20190220_MB077c_CamkIIYFP_670_myrSNAP549_violet_S_p6soma.tif 20190220_MB077c_CamkIIYFP_670_myrSNAP549_violet_S_p8lMB.tif 20190220_MB077c_CamkIIYFP_670_myrSNAP549_violet_S_p8rMB.tif 20190220_MB077c_CamkIIYFP_670_myrSNAP549_violet_S_p8soma.tif 20190220_MB077c_CamkIIYFP_670_myrSNAP549_violet_Ut_p1lMB.tif 20190220_MB077c_CamkIIYFP_670_myrSNAP549_violet_Ut_p1rMB.tif 20190220_MB077c_CamkIIYFP_670_myrSNAP549_violet_Ut_p1soma.tif 20190220_MB077c_CamkIIYFP_670_myrSNAP549_violet_Ut_p2lMB.tif 20190220_MB077c_CamkIIYFP_670_myrSNAP549_violet_Ut_p2rMB.tif 20190220_MB077c_CamkIIYFP_670_myrSNAP549_violet_Ut_p2soma.tif 20190220_MB077c_CamkIIYFP_670_myrSNAP549_violet_Ut_p3lMB.tif 20190220_MB077c_CamkIIYFP_670_myrSNAP549_violet_Ut_p3rMB.tif 20190220_MB077c_CamkIIYFP_670_myrSNAP549_violet_Ut_p3soma.tif 20190220_MB077c_CamkIIYFP_670_myrSNAP549_violet_Ut_p4lMB.tif 20190220_MB077c_CamkIIYFP_670_myrSNAP549_violet_Ut_p4rMB.tif 20190220_MB077c_CamkIIYFP_670_myrSNAP549_violet_Ut_p4soma.tif 20190220_MB077c_CamkIIYFP_670_myrSNAP549_violet_Ut_p5lMB.tif 20190220_MB077c_CamkIIYFP_670_myrSNAP549_violet_Ut_p5rMB.tif 20190220_MB077c_CamkIIYFP_670_myrSNAP549_violet_Ut_p5soma.tif 20190220_MB077c_CamkIIYFP_670_myrSNAP549_violet_Ut_p6lMB.tif 20190220_MB077c_CamkIIYFP_670_myrSNAP549_violet_Ut_p6rMB.tif 20190220_MB077c_CamkIIYFP_670_myrSNAP549_violet_Ut_p6soma.tif'"
      ]
     },
     "execution_count": 116,
     "metadata": {},
     "output_type": "execute_result"
    }
   ],
   "source": [
    "# Alphabetise the list and print it with spaces\n",
    "# Copy the list and past directly into the command line\n",
    "\n",
    "targ_files.sort()\n",
    "' '.join(targ_files)"
   ]
  },
  {
   "cell_type": "code",
   "execution_count": 12,
   "metadata": {},
   "outputs": [
    {
     "name": "stdout",
     "output_type": "stream",
     "text": [
      "usage: chromagnon target1 target2 -R reference1 reference2 [options]\n",
      "\n",
      "Chromagnon is an adaptive channel alignment program for fluorescnece\n",
      "microscope images. If no image file is supplied, a GUI will open to feed\n",
      "multiple files. If you supply image file, the program starts as a console\n",
      "program. When you have mutiple reference files, do like the 'usage':\n",
      "\n",
      "positional arguments:\n",
      "  targets               target images files\n",
      "\n",
      "optional arguments:\n",
      "  -h, --help            show this help message and exit\n",
      "  --version, -v         show program's version number and exit\n",
      "  --reference [REFERENCE [REFERENCE ...]], -R [REFERENCE [REFERENCE ...]]\n",
      "                        reference image or chromagnon files (required)\n",
      "  --local {None,Projection}, -l {None,Projection}\n",
      "                        choose from ['None', 'Projection'] (default=None)\n",
      "  --localMinWindow {30,60,120,240}, -w {30,60,120,240}\n",
      "                        choose from ['30', '60', '120', '240'] (default=60)\n",
      "  --maxShift MAXSHIFT, -s MAXSHIFT\n",
      "                        maximum um possibily misaligned in your system\n",
      "                        (default=5.00 um)\n",
      "  --not_crop_mergins, -c\n",
      "                        crop mergins after alignment (default=False; do crop\n",
      "                        mergins)\n",
      "  --average_references, -a\n",
      "                        average reference image (default=False)\n",
      "  --parm_suffix PARM_SUFFIX, -P PARM_SUFFIX\n",
      "                        suffix for the chromagnon files (default=None)\n",
      "  --img_suffix IMG_SUFFIX, -S IMG_SUFFIX\n",
      "                        suffix for the target files (default=_ALN)\n",
      "  --img_format {tif,dv,ome.tif}, -E {tif,dv,ome.tif}\n",
      "                        file extension for the target files, choose from\n",
      "                        ['tif', 'dv', 'ome.tif'] (default=tif)\n",
      "\n"
     ]
    }
   ],
   "source": [
    "# Example of calling Chromagnon from Python using subprocess\n",
    "# \n",
    "\n",
    "from subprocess import Popen, PIPE\n",
    "\n",
    "process = Popen(['chromagnon', '-h'], stdout=PIPE, stderr=PIPE)\n",
    "stdout, stderr = process.communicate()\n",
    "print stdout"
   ]
  },
  {
   "cell_type": "code",
   "execution_count": null,
   "metadata": {},
   "outputs": [],
   "source": []
  }
 ],
 "metadata": {
  "kernelspec": {
   "display_name": "Python [conda env:chromagnon]",
   "language": "python",
   "name": "conda-env-chromagnon-py"
  },
  "language_info": {
   "codemirror_mode": {
    "name": "ipython",
    "version": 2
   },
   "file_extension": ".py",
   "mimetype": "text/x-python",
   "name": "python",
   "nbconvert_exporter": "python",
   "pygments_lexer": "ipython2",
   "version": "2.7.15"
  }
 },
 "nbformat": 4,
 "nbformat_minor": 2
}
