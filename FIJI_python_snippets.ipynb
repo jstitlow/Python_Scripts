{
 "cells": [
  {
   "cell_type": "code",
   "execution_count": null,
   "metadata": {},
   "outputs": [],
   "source": [
    "# Jupyter example: https://nbviewer.jupyter.org/github/imagej/tutorials/blob/master/notebooks/ImageJ-Tutorials-and-Demo.ipynb\n",
    "# Jupyter example: https://nbviewer.jupyter.org/github/imagej/tutorials/blob/master/notebooks/1-Using-ImageJ/6-ImageJ-with-Python-Kernel.ipynb\n",
    "\n",
    "# ImageJ code for depth coding: Image/Hyperstacks/Temporal-Color Code\n",
    "# ImageJ code for alignment: Plugins/Registration/StackReg or TurboReg\n",
    "#    - from here: P. Thévenaz, U.E. Ruttimann, M. Unser, \"A Pyramid Approach to Subpixel Registration Based on Intensity,\" IEEE Transactions on Image Processing, vol. 7, no. 1, pp. 27-41, January 1998.\n",
    "\n"
   ]
  },
  {
   "cell_type": "code",
   "execution_count": null,
   "metadata": {},
   "outputs": [],
   "source": [
    "import subprocess\n",
    "import os\n",
    "\n",
    "# specify directory of images\n",
    "ref_dir = ('/Users/joshtitlow/tmp/AdultBrain_smFISH/cal/')\n",
    "ref_files = os.listdir(ref_dir)\n",
    "targ_dir = ('/Users/joshtitlow/tmp/AdultBrain_smFISH/aligned/')\n",
    "targ_files = os.listdir(targ_dir)\n",
    "\n",
    "for file in ref_files:\n",
    "\n",
    "    targ = os.path.join(targ_dir, file.replace('_cal.tif','.tif'))\n",
    "    ref = os.path.join(ref_dir, file)\n",
    "    print ('converting:', ref)\n",
    "    \n",
    "#    export_command = \"chromagnon -h\"\n",
    "    export_command = \"chromagnon \"+targ+\" -R \"+ref+\"-E dv\"\n",
    "    popen = subprocess.Popen(export_command, shell=True, stdout=subprocess.PIPE)\n",
    "    out, err = popen.communicate()\n",
    "    output = out.split(':')[0]\n",
    "    print out"
   ]
  },
  {
   "cell_type": "code",
   "execution_count": 2,
   "metadata": {},
   "outputs": [
    {
     "name": "stdout",
     "output_type": "stream",
     "text": [
      "Starting run\n",
      "Log   \t 1210.68 us \t    4.0Mb  \t AcademicFFT Added\n",
      "Log   \t 44.77 ms \t    4.0Mb  \t JTransforms not found\n",
      "Log   \t 45.74 ms \t    4.0Mb  \t FFTW Widsom not found in : /Applications/Fiji.app/plugins/FFTW/\n",
      "Log   \t 46.03 ms \t    4.0Mb  \t FFTW Widsom not found in : /Applications/Fiji.app/plugins/\n",
      "Log   \t 46.34 ms \t    4.0Mb  \t FFTW Widsom not found in : /Users/joshtitlow/FFTW/\n",
      "Log   \t 46.60 ms \t    4.0Mb  \t FFTW Widsom not found in : /Users/joshtitlow/\n",
      "Log   \t 46.83 ms \t    4.0Mb  \t FFTW not found\n",
      "Log   \t 10.09 us \t    9.0Mb  \t Create Live Real Signal \n",
      "Log   \t 2211.05 ms \t   20.3Mb  \t Load /Users/joshtitlow/tmp/MS2/20190529_sggMS2MCPGFP_d42_Kstim/sample.tif\n",
      "Log   \t 2211.88 ms \t   20.3Mb  \t Open image file /Users/joshtitlow/tmp/MS2/20190529_sggMS2MCPGFP_d42_Kstim/sample.tif\n",
      "Log   \t 2218.72 ms \t   22.3Mb  \t Load /Users/joshtitlow/tmp/MS2/20190529_sggMS2MCPGFP_d42_Kstim/PSF_2_nobgnd_crop3.ome.tif\n",
      "Log   \t 2219.25 ms \t   22.3Mb  \t Open PSF file /Users/joshtitlow/tmp/MS2/20190529_sggMS2MCPGFP_d42_Kstim/PSF_2_nobgnd_crop3.ome.tif\n",
      "Log   \t 2308.26 ms \t   22.1Mb  \t Image: 121x111x200 \n",
      "Log   \t 2309.16 ms \t   22.1Mb  \t PSF: 12x11x149 \n",
      "Log   \t 2310.40 ms \t   22.1Mb  \t Impossible to load the reference image\n",
      "Log   \t 2311.21 ms \t   22.1Mb  \t Path: /Users/joshtitlow/tmp/MS2/20190529_sggMS2MCPGFP_d42_Kstim/ (writable)\n",
      "Log   \t 2311.64 ms \t   22.1Mb  \t Algorithm: Richardson-Lucy\n",
      "Log   \t 2315.08 ms \t   33.1Mb  \t Input: 121x111x200 \n",
      "Log   \t 2339.71 ms \t   43.1Mb  \t PSF: 121x111x200  normalized 1.0\n",
      "Log   \t 2340.22 ms \t   43.1Mb  \t RL is starting (20 iterations)\n",
      "Log   \t 2599.57 ms \t   76.1Mb  \t AcademicFFT initialized for [121x111x200]\n",
      "Log   \t 2628.12 ms \t   78.1Mb  \t RL data ready\n",
      "Log   \t 2628.71 ms \t   78.1Mb  \t RL(20.0000)\n",
      "Log   \t 3.23 s \t  162.6Mb  \t @1 Time:   0.8 s\n",
      "Log   \t 5.32 s \t  166.1Mb  \t @2 Time:   2.9 s\n",
      "Log   \t 6.78 s \t  193.2Mb  \t @3 Time:   4.4 s\n",
      "Log   \t 8.18 s \t  184.7Mb  \t @4 Time:   5.8 s\n",
      "Log   \t 9.59 s \t  253.1Mb  \t @5 Time:   7.2 s\n",
      "Log   \t 10.97 s \t  252.5Mb  \t @6 Time:   8.6 s\n",
      "Log   \t 12.35 s \t  253.5Mb  \t @7 Time:   9.9 s\n",
      "Log   \t 13.78 s \t  254.6Mb  \t @8 Time:  11.4 s\n",
      "Log   \t 15.25 s \t  251.7Mb  \t @9 Time:  12.8 s\n",
      "Log   \t 16.80 s \t  252.8Mb  \t @10 Time:  14.4 s\n",
      "Log   \t 18.26 s \t  253.9Mb  \t @11 Time:  15.9 s\n",
      "Log   \t 19.81 s \t  253.0Mb  \t @12 Time:  17.4 s\n",
      "Log   \t 21.39 s \t  254.0Mb  \t @13 Time:  19.0 s\n",
      "Log   \t 23.00 s \t  265.5Mb  \t @14 Time:  20.6 s\n",
      "Log   \t 24.50 s \t  262.6Mb  \t @15 Time:  22.1 s\n",
      "Log   \t 26.01 s \t  262.8Mb  \t @16 Time:  23.6 s\n",
      "Log   \t 27.51 s \t  257.8Mb  \t @17 Time:  25.1 s\n",
      "Log   \t 29.03 s \t  267.1Mb  \t @18 Time:  26.6 s\n",
      "Log   \t 30.59 s \t  263.2Mb  \t @19 Time:  28.2 s\n",
      "Log   \t 32.23 s \t  272.5Mb  \t @20 Time:  29.8 s\n",
      "Log   \t 33.76 s \t  267.1Mb  \t @21 Time:  31.3 s\n",
      "Log   \t 33.77 s \t  268.1Mb  \t Stopped>> by iteration 21 > 20\n",
      "Log   \t 33.79 s \t  278.1Mb  \t Show Real Signal decon_example\n",
      "Log   \t 33.91 s \t  283.1Mb  \t Save Real Signal /Users/joshtitlow/tmp/MS2/20190529_sggMS2MCPGFP_d42_Kstim//decon_example.tif\n",
      "Log   \t 33.91 s \t  283.1Mb  \t Time:  31.5 s Peak:321.7 Mb\n",
      "Log   \t 33.91 s \t  283.1Mb  \t Richardson-Lucy is finished\n",
      "Log   \t 33.91 s \t  283.1Mb  \t End of RL in  31.5 s and 321.7 Mb\n",
      "End\n",
      "\n"
     ]
    }
   ],
   "source": [
    "import subprocess\n",
    "\n",
    "# specify directory of images\n",
    "ref_dir = ('/Users/joshtitlow/tmp/AdultBrain_smFISH/cal/')\n",
    "ref_files = os.listdir(ref_dir)\n",
    "\n",
    "export_command = \"java -jar /Applications/Fiji.app/plugins/DeconvolutionLab_2.jar Run -image file ~/tmp/MS2/20190529_sggMS2MCPGFP_d42_Kstim/sample.tif -psf file ~/tmp/MS2/20190529_sggMS2MCPGFP_d42_Kstim/PSF_2_nobgnd_crop3.ome.tif -algorithm RL 20  -path ~/tmp/MS2/20190529_sggMS2MCPGFP_d42_Kstim/ -fft academic -out stack decon_example\"\n",
    "popen = subprocess.Popen(export_command, shell=True, stdout=subprocess.PIPE)\n",
    "out, err = popen.communicate()\n",
    "output = out.split(':')[0]\n",
    "print out"
   ]
  },
  {
   "cell_type": "code",
   "execution_count": 8,
   "metadata": {},
   "outputs": [
    {
     "name": "stdout",
     "output_type": "stream",
     "text": [
      "Vendor:  continuum\n",
      "Product: anaconda\n",
      "Message: trial mode expires in 30 days\n",
      "//anaconda/lib/python2.7/site-packages/cryptography/hazmat/primitives/constant_time.py:26: CryptographyDeprecationWarning: Support for your Python version is deprecated. The next version of cryptography will remove support. Please upgrade to a 2.7.x release that supports hmac.compare_digest as soon as possible.\n",
      "  utils.DeprecatedIn23,\n",
      "\n",
      "CondaValueError: no package names supplied\n",
      "# If you want to update to a newer version of Anaconda, type:\n",
      "#\n",
      "# $ conda update --prefix //anaconda/envs/chromagnon anaconda\n",
      "\n",
      "\n"
     ]
    }
   ],
   "source": [
    "import sys\n",
    "!conda update --yes --prefix {sys.prefix} \n"
   ]
  },
  {
   "cell_type": "code",
   "execution_count": null,
   "metadata": {},
   "outputs": [],
   "source": [
    "import imagej\n",
    "ij = imagej.init()\n",
    "from imagej import IJ\n",
    " \n",
    "path = \"/Users/joshtitlow/tmp/MS2/20190529_sggMS2MCPGFP_d42_Kstim/sample.tif\"\n",
    "imp = IJ.openImage(path)\n",
    "imp.show()"
   ]
  },
  {
   "cell_type": "code",
   "execution_count": 1,
   "metadata": {},
   "outputs": [
    {
     "name": "stdout",
     "output_type": "stream",
     "text": [
      "Added 475 JARs to the Java classpath.\n"
     ]
    },
    {
     "ename": "SystemError",
     "evalue": "Error calling dlopen(b'//anaconda/jre/lib/server/libjvm.dylib': b'dlopen(//anaconda/jre/lib/server/libjvm.dylib, 10): image not found'",
     "output_type": "error",
     "traceback": [
      "\u001b[0;31m---------------------------------------------------------------------------\u001b[0m",
      "\u001b[0;31mSystemError\u001b[0m                               Traceback (most recent call last)",
      "\u001b[0;32m<ipython-input-1-2732246c613b>\u001b[0m in \u001b[0;36m<module>\u001b[0;34m()\u001b[0m\n\u001b[1;32m      1\u001b[0m \u001b[0;32mimport\u001b[0m \u001b[0mimagej\u001b[0m\u001b[0;34m\u001b[0m\u001b[0;34m\u001b[0m\u001b[0m\n\u001b[0;32m----> 2\u001b[0;31m \u001b[0mij\u001b[0m \u001b[0;34m=\u001b[0m \u001b[0mimagej\u001b[0m\u001b[0;34m.\u001b[0m\u001b[0minit\u001b[0m\u001b[0;34m(\u001b[0m\u001b[0;34m'/Applications/Fiji.app'\u001b[0m\u001b[0;34m)\u001b[0m\u001b[0;34m\u001b[0m\u001b[0;34m\u001b[0m\u001b[0m\n\u001b[0m",
      "\u001b[0;32m//anaconda/envs/chromagnon/lib/python3.6/site-packages/imagej/imagej.py\u001b[0m in \u001b[0;36minit\u001b[0;34m(ij_dir_or_version_or_endpoint, headless)\u001b[0m\n\u001b[1;32m    102\u001b[0m \u001b[0;34m\u001b[0m\u001b[0m\n\u001b[1;32m    103\u001b[0m     \u001b[0;31m# Must import imglyb (not scyjava) to spin up the JVM now.\u001b[0m\u001b[0;34m\u001b[0m\u001b[0;34m\u001b[0m\u001b[0;34m\u001b[0m\u001b[0m\n\u001b[0;32m--> 104\u001b[0;31m     \u001b[0;32mimport\u001b[0m \u001b[0mimglyb\u001b[0m\u001b[0;34m\u001b[0m\u001b[0;34m\u001b[0m\u001b[0m\n\u001b[0m\u001b[1;32m    105\u001b[0m     \u001b[0;32mfrom\u001b[0m \u001b[0mjnius\u001b[0m \u001b[0;32mimport\u001b[0m \u001b[0mautoclass\u001b[0m\u001b[0;34m\u001b[0m\u001b[0;34m\u001b[0m\u001b[0m\n\u001b[1;32m    106\u001b[0m \u001b[0;34m\u001b[0m\u001b[0m\n",
      "\u001b[0;32m//anaconda/envs/chromagnon/lib/python3.6/site-packages/imglyb/__init__.py\u001b[0m in \u001b[0;36m<module>\u001b[0;34m()\u001b[0m\n\u001b[1;32m     39\u001b[0m \u001b[0;34m\u001b[0m\u001b[0m\n\u001b[1;32m     40\u001b[0m \u001b[0;34m\u001b[0m\u001b[0m\n\u001b[0;32m---> 41\u001b[0;31m \u001b[0mconfig\u001b[0m\u001b[0;34m,\u001b[0m \u001b[0m_\u001b[0m \u001b[0;34m=\u001b[0m \u001b[0m_init_jvm_options\u001b[0m\u001b[0;34m(\u001b[0m\u001b[0;34m)\u001b[0m\u001b[0;34m\u001b[0m\u001b[0;34m\u001b[0m\u001b[0m\n\u001b[0m\u001b[1;32m     42\u001b[0m \u001b[0;34m\u001b[0m\u001b[0m\n\u001b[1;32m     43\u001b[0m \u001b[0;32mfrom\u001b[0m \u001b[0;34m.\u001b[0m\u001b[0mimglib_ndarray\u001b[0m \u001b[0;32mimport\u001b[0m \u001b[0mImgLibReferenceGuard\u001b[0m \u001b[0;32mas\u001b[0m \u001b[0m_ImgLibReferenceGuard\u001b[0m\u001b[0;34m\u001b[0m\u001b[0;34m\u001b[0m\u001b[0m\n",
      "\u001b[0;32m//anaconda/envs/chromagnon/lib/python3.6/site-packages/imglyb/__init__.py\u001b[0m in \u001b[0;36m_init_jvm_options\u001b[0;34m()\u001b[0m\n\u001b[1;32m     34\u001b[0m     \u001b[0mscyjava_config\u001b[0m\u001b[0;34m.\u001b[0m\u001b[0madd_endpoints\u001b[0m\u001b[0;34m(\u001b[0m\u001b[0mIMGLIB2_IMGLYB_ENDPOINT\u001b[0m\u001b[0;34m)\u001b[0m\u001b[0;34m\u001b[0m\u001b[0;34m\u001b[0m\u001b[0m\n\u001b[1;32m     35\u001b[0m \u001b[0;34m\u001b[0m\u001b[0m\n\u001b[0;32m---> 36\u001b[0;31m     \u001b[0;32mimport\u001b[0m \u001b[0mscyjava\u001b[0m\u001b[0;34m\u001b[0m\u001b[0;34m\u001b[0m\u001b[0m\n\u001b[0m\u001b[1;32m     37\u001b[0m \u001b[0;34m\u001b[0m\u001b[0m\n\u001b[1;32m     38\u001b[0m     \u001b[0;32mreturn\u001b[0m \u001b[0mjnius_config\u001b[0m\u001b[0;34m,\u001b[0m \u001b[0mscyjava\u001b[0m\u001b[0;34m\u001b[0m\u001b[0;34m\u001b[0m\u001b[0m\n",
      "\u001b[0;32m//anaconda/envs/chromagnon/lib/python3.6/site-packages/scyjava/__init__.py\u001b[0m in \u001b[0;36m<module>\u001b[0;34m()\u001b[0m\n\u001b[1;32m    120\u001b[0m         \u001b[0;32mreturn\u001b[0m \u001b[0;32mNone\u001b[0m\u001b[0;34m\u001b[0m\u001b[0;34m\u001b[0m\u001b[0m\n\u001b[1;32m    121\u001b[0m \u001b[0;34m\u001b[0m\u001b[0m\n\u001b[0;32m--> 122\u001b[0;31m \u001b[0mjnius\u001b[0m \u001b[0;34m=\u001b[0m \u001b[0m_init_jvm\u001b[0m\u001b[0;34m(\u001b[0m\u001b[0;34m)\u001b[0m\u001b[0;34m\u001b[0m\u001b[0;34m\u001b[0m\u001b[0m\n\u001b[0m\u001b[1;32m    123\u001b[0m \u001b[0;32mif\u001b[0m \u001b[0mjnius\u001b[0m \u001b[0;32mis\u001b[0m \u001b[0;32mNone\u001b[0m\u001b[0;34m:\u001b[0m\u001b[0;34m\u001b[0m\u001b[0;34m\u001b[0m\u001b[0m\n\u001b[1;32m    124\u001b[0m     \u001b[0;32mraise\u001b[0m \u001b[0mImportError\u001b[0m\u001b[0;34m(\u001b[0m\u001b[0;34m'Unable to import scyjava dependency jnius.'\u001b[0m\u001b[0;34m)\u001b[0m\u001b[0;34m\u001b[0m\u001b[0;34m\u001b[0m\u001b[0m\n",
      "\u001b[0;32m//anaconda/envs/chromagnon/lib/python3.6/site-packages/scyjava/__init__.py\u001b[0m in \u001b[0;36m_init_jvm\u001b[0;34m()\u001b[0m\n\u001b[1;32m    111\u001b[0m \u001b[0;34m\u001b[0m\u001b[0m\n\u001b[1;32m    112\u001b[0m     \u001b[0;32mtry\u001b[0m\u001b[0;34m:\u001b[0m\u001b[0;34m\u001b[0m\u001b[0;34m\u001b[0m\u001b[0m\n\u001b[0;32m--> 113\u001b[0;31m         \u001b[0;32mimport\u001b[0m \u001b[0mjnius\u001b[0m\u001b[0;34m\u001b[0m\u001b[0;34m\u001b[0m\u001b[0m\n\u001b[0m\u001b[1;32m    114\u001b[0m         \u001b[0;32mreturn\u001b[0m \u001b[0mjnius\u001b[0m\u001b[0;34m\u001b[0m\u001b[0;34m\u001b[0m\u001b[0m\n\u001b[1;32m    115\u001b[0m     \u001b[0;32mexcept\u001b[0m \u001b[0mKeyError\u001b[0m \u001b[0;32mas\u001b[0m \u001b[0me\u001b[0m\u001b[0;34m:\u001b[0m\u001b[0;34m\u001b[0m\u001b[0;34m\u001b[0m\u001b[0m\n",
      "\u001b[0;32m//anaconda/envs/chromagnon/lib/python3.6/site-packages/jnius/__init__.py\u001b[0m in \u001b[0;36m<module>\u001b[0;34m()\u001b[0m\n\u001b[1;32m     11\u001b[0m \u001b[0;34m\u001b[0m\u001b[0m\n\u001b[1;32m     12\u001b[0m \u001b[0;32mfrom\u001b[0m \u001b[0;34m.\u001b[0m\u001b[0mjnius\u001b[0m \u001b[0;32mimport\u001b[0m \u001b[0;34m*\u001b[0m  \u001b[0;31m# noqa\u001b[0m\u001b[0;34m\u001b[0m\u001b[0;34m\u001b[0m\u001b[0m\n\u001b[0;32m---> 13\u001b[0;31m \u001b[0;32mfrom\u001b[0m \u001b[0;34m.\u001b[0m\u001b[0mreflect\u001b[0m \u001b[0;32mimport\u001b[0m \u001b[0;34m*\u001b[0m  \u001b[0;31m# noqa\u001b[0m\u001b[0;34m\u001b[0m\u001b[0;34m\u001b[0m\u001b[0m\n\u001b[0m\u001b[1;32m     14\u001b[0m \u001b[0;32mfrom\u001b[0m \u001b[0msix\u001b[0m \u001b[0;32mimport\u001b[0m \u001b[0mwith_metaclass\u001b[0m\u001b[0;34m\u001b[0m\u001b[0;34m\u001b[0m\u001b[0m\n\u001b[1;32m     15\u001b[0m \u001b[0;34m\u001b[0m\u001b[0m\n",
      "\u001b[0;32m//anaconda/envs/chromagnon/lib/python3.6/site-packages/jnius/reflect.py\u001b[0m in \u001b[0;36m<module>\u001b[0;34m()\u001b[0m\n\u001b[1;32m     13\u001b[0m \u001b[0;34m\u001b[0m\u001b[0m\n\u001b[1;32m     14\u001b[0m \u001b[0;34m\u001b[0m\u001b[0m\n\u001b[0;32m---> 15\u001b[0;31m \u001b[0;32mclass\u001b[0m \u001b[0mClass\u001b[0m\u001b[0;34m(\u001b[0m\u001b[0mwith_metaclass\u001b[0m\u001b[0;34m(\u001b[0m\u001b[0mMetaJavaClass\u001b[0m\u001b[0;34m,\u001b[0m \u001b[0mJavaClass\u001b[0m\u001b[0;34m)\u001b[0m\u001b[0;34m)\u001b[0m\u001b[0;34m:\u001b[0m\u001b[0;34m\u001b[0m\u001b[0;34m\u001b[0m\u001b[0m\n\u001b[0m\u001b[1;32m     16\u001b[0m     \u001b[0m__javaclass__\u001b[0m \u001b[0;34m=\u001b[0m \u001b[0;34m'java/lang/Class'\u001b[0m\u001b[0;34m\u001b[0m\u001b[0;34m\u001b[0m\u001b[0m\n\u001b[1;32m     17\u001b[0m \u001b[0;34m\u001b[0m\u001b[0m\n",
      "\u001b[0;32m//anaconda/envs/chromagnon/lib/python3.6/site-packages/six.py\u001b[0m in \u001b[0;36m__new__\u001b[0;34m(cls, name, this_bases, d)\u001b[0m\n\u001b[1;32m    825\u001b[0m \u001b[0;34m\u001b[0m\u001b[0m\n\u001b[1;32m    826\u001b[0m         \u001b[0;32mdef\u001b[0m \u001b[0m__new__\u001b[0m\u001b[0;34m(\u001b[0m\u001b[0mcls\u001b[0m\u001b[0;34m,\u001b[0m \u001b[0mname\u001b[0m\u001b[0;34m,\u001b[0m \u001b[0mthis_bases\u001b[0m\u001b[0;34m,\u001b[0m \u001b[0md\u001b[0m\u001b[0;34m)\u001b[0m\u001b[0;34m:\u001b[0m\u001b[0;34m\u001b[0m\u001b[0;34m\u001b[0m\u001b[0m\n\u001b[0;32m--> 827\u001b[0;31m             \u001b[0;32mreturn\u001b[0m \u001b[0mmeta\u001b[0m\u001b[0;34m(\u001b[0m\u001b[0mname\u001b[0m\u001b[0;34m,\u001b[0m \u001b[0mbases\u001b[0m\u001b[0;34m,\u001b[0m \u001b[0md\u001b[0m\u001b[0;34m)\u001b[0m\u001b[0;34m\u001b[0m\u001b[0;34m\u001b[0m\u001b[0m\n\u001b[0m\u001b[1;32m    828\u001b[0m \u001b[0;34m\u001b[0m\u001b[0m\n\u001b[1;32m    829\u001b[0m         \u001b[0;34m@\u001b[0m\u001b[0mclassmethod\u001b[0m\u001b[0;34m\u001b[0m\u001b[0;34m\u001b[0m\u001b[0m\n",
      "\u001b[0;32mjnius/jnius_export_class.pxi\u001b[0m in \u001b[0;36mjnius.MetaJavaClass.__new__\u001b[0;34m()\u001b[0m\n",
      "\u001b[0;32mjnius/jnius_export_class.pxi\u001b[0m in \u001b[0;36mjnius.MetaJavaClass.resolve_class\u001b[0;34m()\u001b[0m\n",
      "\u001b[0;32mjnius/jnius_env.pxi\u001b[0m in \u001b[0;36mjnius.get_jnienv\u001b[0;34m()\u001b[0m\n",
      "\u001b[0;32mjnius/jnius_jvm_dlopen.pxi\u001b[0m in \u001b[0;36mjnius.get_platform_jnienv\u001b[0;34m()\u001b[0m\n",
      "\u001b[0;32mjnius/jnius_jvm_dlopen.pxi\u001b[0m in \u001b[0;36mjnius.create_jnienv\u001b[0;34m()\u001b[0m\n",
      "\u001b[0;31mSystemError\u001b[0m: Error calling dlopen(b'//anaconda/jre/lib/server/libjvm.dylib': b'dlopen(//anaconda/jre/lib/server/libjvm.dylib, 10): image not found'"
     ]
    }
   ],
   "source": [
    "import imagej\n",
    "ij = imagej.init('/Applications/Fiji.app')"
   ]
  },
  {
   "cell_type": "code",
   "execution_count": 2,
   "metadata": {},
   "outputs": [
    {
     "ename": "SystemError",
     "evalue": "Error calling dlopen(b'//anaconda/jre/lib/server/libjvm.dylib': b'dlopen(//anaconda/jre/lib/server/libjvm.dylib, 10): image not found'",
     "output_type": "error",
     "traceback": [
      "\u001b[0;31m---------------------------------------------------------------------------\u001b[0m",
      "\u001b[0;31mSystemError\u001b[0m                               Traceback (most recent call last)",
      "\u001b[0;32m<ipython-input-2-bb31a3d6ba80>\u001b[0m in \u001b[0;36m<module>\u001b[0;34m()\u001b[0m\n\u001b[1;32m      1\u001b[0m \u001b[0;32mimport\u001b[0m \u001b[0mimagej\u001b[0m\u001b[0;34m\u001b[0m\u001b[0;34m\u001b[0m\u001b[0m\n\u001b[0;32m----> 2\u001b[0;31m \u001b[0mij\u001b[0m \u001b[0;34m=\u001b[0m \u001b[0mimagej\u001b[0m\u001b[0;34m.\u001b[0m\u001b[0minit\u001b[0m\u001b[0;34m(\u001b[0m\u001b[0;34m'sc.fiji:fiji'\u001b[0m\u001b[0;34m)\u001b[0m\u001b[0;34m\u001b[0m\u001b[0;34m\u001b[0m\u001b[0m\n\u001b[0m",
      "\u001b[0;32m//anaconda/envs/chromagnon/lib/python3.6/site-packages/imagej/imagej.py\u001b[0m in \u001b[0;36minit\u001b[0;34m(ij_dir_or_version_or_endpoint, headless)\u001b[0m\n\u001b[1;32m    102\u001b[0m \u001b[0;34m\u001b[0m\u001b[0m\n\u001b[1;32m    103\u001b[0m     \u001b[0;31m# Must import imglyb (not scyjava) to spin up the JVM now.\u001b[0m\u001b[0;34m\u001b[0m\u001b[0;34m\u001b[0m\u001b[0;34m\u001b[0m\u001b[0m\n\u001b[0;32m--> 104\u001b[0;31m     \u001b[0;32mimport\u001b[0m \u001b[0mimglyb\u001b[0m\u001b[0;34m\u001b[0m\u001b[0;34m\u001b[0m\u001b[0m\n\u001b[0m\u001b[1;32m    105\u001b[0m     \u001b[0;32mfrom\u001b[0m \u001b[0mjnius\u001b[0m \u001b[0;32mimport\u001b[0m \u001b[0mautoclass\u001b[0m\u001b[0;34m\u001b[0m\u001b[0;34m\u001b[0m\u001b[0m\n\u001b[1;32m    106\u001b[0m \u001b[0;34m\u001b[0m\u001b[0m\n",
      "\u001b[0;32m//anaconda/envs/chromagnon/lib/python3.6/site-packages/imglyb/__init__.py\u001b[0m in \u001b[0;36m<module>\u001b[0;34m()\u001b[0m\n\u001b[1;32m     39\u001b[0m \u001b[0;34m\u001b[0m\u001b[0m\n\u001b[1;32m     40\u001b[0m \u001b[0;34m\u001b[0m\u001b[0m\n\u001b[0;32m---> 41\u001b[0;31m \u001b[0mconfig\u001b[0m\u001b[0;34m,\u001b[0m \u001b[0m_\u001b[0m \u001b[0;34m=\u001b[0m \u001b[0m_init_jvm_options\u001b[0m\u001b[0;34m(\u001b[0m\u001b[0;34m)\u001b[0m\u001b[0;34m\u001b[0m\u001b[0;34m\u001b[0m\u001b[0m\n\u001b[0m\u001b[1;32m     42\u001b[0m \u001b[0;34m\u001b[0m\u001b[0m\n\u001b[1;32m     43\u001b[0m \u001b[0;32mfrom\u001b[0m \u001b[0;34m.\u001b[0m\u001b[0mimglib_ndarray\u001b[0m \u001b[0;32mimport\u001b[0m \u001b[0mImgLibReferenceGuard\u001b[0m \u001b[0;32mas\u001b[0m \u001b[0m_ImgLibReferenceGuard\u001b[0m\u001b[0;34m\u001b[0m\u001b[0;34m\u001b[0m\u001b[0m\n",
      "\u001b[0;32m//anaconda/envs/chromagnon/lib/python3.6/site-packages/imglyb/__init__.py\u001b[0m in \u001b[0;36m_init_jvm_options\u001b[0;34m()\u001b[0m\n\u001b[1;32m     34\u001b[0m     \u001b[0mscyjava_config\u001b[0m\u001b[0;34m.\u001b[0m\u001b[0madd_endpoints\u001b[0m\u001b[0;34m(\u001b[0m\u001b[0mIMGLIB2_IMGLYB_ENDPOINT\u001b[0m\u001b[0;34m)\u001b[0m\u001b[0;34m\u001b[0m\u001b[0;34m\u001b[0m\u001b[0m\n\u001b[1;32m     35\u001b[0m \u001b[0;34m\u001b[0m\u001b[0m\n\u001b[0;32m---> 36\u001b[0;31m     \u001b[0;32mimport\u001b[0m \u001b[0mscyjava\u001b[0m\u001b[0;34m\u001b[0m\u001b[0;34m\u001b[0m\u001b[0m\n\u001b[0m\u001b[1;32m     37\u001b[0m \u001b[0;34m\u001b[0m\u001b[0m\n\u001b[1;32m     38\u001b[0m     \u001b[0;32mreturn\u001b[0m \u001b[0mjnius_config\u001b[0m\u001b[0;34m,\u001b[0m \u001b[0mscyjava\u001b[0m\u001b[0;34m\u001b[0m\u001b[0;34m\u001b[0m\u001b[0m\n",
      "\u001b[0;32m//anaconda/envs/chromagnon/lib/python3.6/site-packages/scyjava/__init__.py\u001b[0m in \u001b[0;36m<module>\u001b[0;34m()\u001b[0m\n\u001b[1;32m    120\u001b[0m         \u001b[0;32mreturn\u001b[0m \u001b[0;32mNone\u001b[0m\u001b[0;34m\u001b[0m\u001b[0;34m\u001b[0m\u001b[0m\n\u001b[1;32m    121\u001b[0m \u001b[0;34m\u001b[0m\u001b[0m\n\u001b[0;32m--> 122\u001b[0;31m \u001b[0mjnius\u001b[0m \u001b[0;34m=\u001b[0m \u001b[0m_init_jvm\u001b[0m\u001b[0;34m(\u001b[0m\u001b[0;34m)\u001b[0m\u001b[0;34m\u001b[0m\u001b[0;34m\u001b[0m\u001b[0m\n\u001b[0m\u001b[1;32m    123\u001b[0m \u001b[0;32mif\u001b[0m \u001b[0mjnius\u001b[0m \u001b[0;32mis\u001b[0m \u001b[0;32mNone\u001b[0m\u001b[0;34m:\u001b[0m\u001b[0;34m\u001b[0m\u001b[0;34m\u001b[0m\u001b[0m\n\u001b[1;32m    124\u001b[0m     \u001b[0;32mraise\u001b[0m \u001b[0mImportError\u001b[0m\u001b[0;34m(\u001b[0m\u001b[0;34m'Unable to import scyjava dependency jnius.'\u001b[0m\u001b[0;34m)\u001b[0m\u001b[0;34m\u001b[0m\u001b[0;34m\u001b[0m\u001b[0m\n",
      "\u001b[0;32m//anaconda/envs/chromagnon/lib/python3.6/site-packages/scyjava/__init__.py\u001b[0m in \u001b[0;36m_init_jvm\u001b[0;34m()\u001b[0m\n\u001b[1;32m    111\u001b[0m \u001b[0;34m\u001b[0m\u001b[0m\n\u001b[1;32m    112\u001b[0m     \u001b[0;32mtry\u001b[0m\u001b[0;34m:\u001b[0m\u001b[0;34m\u001b[0m\u001b[0;34m\u001b[0m\u001b[0m\n\u001b[0;32m--> 113\u001b[0;31m         \u001b[0;32mimport\u001b[0m \u001b[0mjnius\u001b[0m\u001b[0;34m\u001b[0m\u001b[0;34m\u001b[0m\u001b[0m\n\u001b[0m\u001b[1;32m    114\u001b[0m         \u001b[0;32mreturn\u001b[0m \u001b[0mjnius\u001b[0m\u001b[0;34m\u001b[0m\u001b[0;34m\u001b[0m\u001b[0m\n\u001b[1;32m    115\u001b[0m     \u001b[0;32mexcept\u001b[0m \u001b[0mKeyError\u001b[0m \u001b[0;32mas\u001b[0m \u001b[0me\u001b[0m\u001b[0;34m:\u001b[0m\u001b[0;34m\u001b[0m\u001b[0;34m\u001b[0m\u001b[0m\n",
      "\u001b[0;32m//anaconda/envs/chromagnon/lib/python3.6/site-packages/jnius/__init__.py\u001b[0m in \u001b[0;36m<module>\u001b[0;34m()\u001b[0m\n\u001b[1;32m     11\u001b[0m \u001b[0;34m\u001b[0m\u001b[0m\n\u001b[1;32m     12\u001b[0m \u001b[0;32mfrom\u001b[0m \u001b[0;34m.\u001b[0m\u001b[0mjnius\u001b[0m \u001b[0;32mimport\u001b[0m \u001b[0;34m*\u001b[0m  \u001b[0;31m# noqa\u001b[0m\u001b[0;34m\u001b[0m\u001b[0;34m\u001b[0m\u001b[0m\n\u001b[0;32m---> 13\u001b[0;31m \u001b[0;32mfrom\u001b[0m \u001b[0;34m.\u001b[0m\u001b[0mreflect\u001b[0m \u001b[0;32mimport\u001b[0m \u001b[0;34m*\u001b[0m  \u001b[0;31m# noqa\u001b[0m\u001b[0;34m\u001b[0m\u001b[0;34m\u001b[0m\u001b[0m\n\u001b[0m\u001b[1;32m     14\u001b[0m \u001b[0;32mfrom\u001b[0m \u001b[0msix\u001b[0m \u001b[0;32mimport\u001b[0m \u001b[0mwith_metaclass\u001b[0m\u001b[0;34m\u001b[0m\u001b[0;34m\u001b[0m\u001b[0m\n\u001b[1;32m     15\u001b[0m \u001b[0;34m\u001b[0m\u001b[0m\n",
      "\u001b[0;32m//anaconda/envs/chromagnon/lib/python3.6/site-packages/jnius/reflect.py\u001b[0m in \u001b[0;36m<module>\u001b[0;34m()\u001b[0m\n\u001b[1;32m     13\u001b[0m \u001b[0;34m\u001b[0m\u001b[0m\n\u001b[1;32m     14\u001b[0m \u001b[0;34m\u001b[0m\u001b[0m\n\u001b[0;32m---> 15\u001b[0;31m \u001b[0;32mclass\u001b[0m \u001b[0mClass\u001b[0m\u001b[0;34m(\u001b[0m\u001b[0mwith_metaclass\u001b[0m\u001b[0;34m(\u001b[0m\u001b[0mMetaJavaClass\u001b[0m\u001b[0;34m,\u001b[0m \u001b[0mJavaClass\u001b[0m\u001b[0;34m)\u001b[0m\u001b[0;34m)\u001b[0m\u001b[0;34m:\u001b[0m\u001b[0;34m\u001b[0m\u001b[0;34m\u001b[0m\u001b[0m\n\u001b[0m\u001b[1;32m     16\u001b[0m     \u001b[0m__javaclass__\u001b[0m \u001b[0;34m=\u001b[0m \u001b[0;34m'java/lang/Class'\u001b[0m\u001b[0;34m\u001b[0m\u001b[0;34m\u001b[0m\u001b[0m\n\u001b[1;32m     17\u001b[0m \u001b[0;34m\u001b[0m\u001b[0m\n",
      "\u001b[0;32m//anaconda/envs/chromagnon/lib/python3.6/site-packages/six.py\u001b[0m in \u001b[0;36m__new__\u001b[0;34m(cls, name, this_bases, d)\u001b[0m\n\u001b[1;32m    825\u001b[0m \u001b[0;34m\u001b[0m\u001b[0m\n\u001b[1;32m    826\u001b[0m         \u001b[0;32mdef\u001b[0m \u001b[0m__new__\u001b[0m\u001b[0;34m(\u001b[0m\u001b[0mcls\u001b[0m\u001b[0;34m,\u001b[0m \u001b[0mname\u001b[0m\u001b[0;34m,\u001b[0m \u001b[0mthis_bases\u001b[0m\u001b[0;34m,\u001b[0m \u001b[0md\u001b[0m\u001b[0;34m)\u001b[0m\u001b[0;34m:\u001b[0m\u001b[0;34m\u001b[0m\u001b[0;34m\u001b[0m\u001b[0m\n\u001b[0;32m--> 827\u001b[0;31m             \u001b[0;32mreturn\u001b[0m \u001b[0mmeta\u001b[0m\u001b[0;34m(\u001b[0m\u001b[0mname\u001b[0m\u001b[0;34m,\u001b[0m \u001b[0mbases\u001b[0m\u001b[0;34m,\u001b[0m \u001b[0md\u001b[0m\u001b[0;34m)\u001b[0m\u001b[0;34m\u001b[0m\u001b[0;34m\u001b[0m\u001b[0m\n\u001b[0m\u001b[1;32m    828\u001b[0m \u001b[0;34m\u001b[0m\u001b[0m\n\u001b[1;32m    829\u001b[0m         \u001b[0;34m@\u001b[0m\u001b[0mclassmethod\u001b[0m\u001b[0;34m\u001b[0m\u001b[0;34m\u001b[0m\u001b[0m\n",
      "\u001b[0;32mjnius/jnius_export_class.pxi\u001b[0m in \u001b[0;36mjnius.MetaJavaClass.__new__\u001b[0;34m()\u001b[0m\n",
      "\u001b[0;32mjnius/jnius_export_class.pxi\u001b[0m in \u001b[0;36mjnius.MetaJavaClass.resolve_class\u001b[0;34m()\u001b[0m\n",
      "\u001b[0;32mjnius/jnius_env.pxi\u001b[0m in \u001b[0;36mjnius.get_jnienv\u001b[0;34m()\u001b[0m\n",
      "\u001b[0;32mjnius/jnius_jvm_dlopen.pxi\u001b[0m in \u001b[0;36mjnius.get_platform_jnienv\u001b[0;34m()\u001b[0m\n",
      "\u001b[0;32mjnius/jnius_jvm_dlopen.pxi\u001b[0m in \u001b[0;36mjnius.create_jnienv\u001b[0;34m()\u001b[0m\n",
      "\u001b[0;31mSystemError\u001b[0m: Error calling dlopen(b'//anaconda/jre/lib/server/libjvm.dylib': b'dlopen(//anaconda/jre/lib/server/libjvm.dylib, 10): image not found'"
     ]
    }
   ],
   "source": [
    "import imagej\n",
    "ij = imagej.init('sc.fiji:fiji')"
   ]
  },
  {
   "cell_type": "code",
   "execution_count": null,
   "metadata": {},
   "outputs": [],
   "source": []
  }
 ],
 "metadata": {
  "kernelspec": {
   "display_name": "Python [conda env:chromagnon]",
   "language": "python",
   "name": "conda-env-chromagnon-py"
  },
  "language_info": {
   "codemirror_mode": {
    "name": "ipython",
    "version": 3
   },
   "file_extension": ".py",
   "mimetype": "text/x-python",
   "name": "python",
   "nbconvert_exporter": "python",
   "pygments_lexer": "ipython3",
   "version": "3.6.7"
  }
 },
 "nbformat": 4,
 "nbformat_minor": 2
}
