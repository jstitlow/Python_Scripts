{
 "cells": [
  {
   "cell_type": "code",
   "execution_count": 3,
   "metadata": {},
   "outputs": [
    {
     "name": "stderr",
     "output_type": "stream",
     "text": [
      "//anaconda/lib/python2.7/site-packages/ipykernel/__main__.py:42: VisibleDeprecationWarning: using a non-integer number instead of an integer will result in an error in the future\n"
     ]
    }
   ],
   "source": [
    "# Determining localisation of spots within a mask\n",
    "#\n",
    "# -this code runs on a single table of centroid coordinates and binary image mask\n",
    "# -see the notebook below for code that will run on a whole directory\n",
    "\n",
    "\n",
    "import os\n",
    "import tifffile\n",
    "import numpy as np\n",
    "import pandas as pd\n",
    "from scipy import stats\n",
    "import matplotlib.pyplot as plt\n",
    "%matplotlib inline \n",
    "\n",
    "# specify the FQ centroid file\n",
    "FQ_file = '/Users/joshtitlow/tmp/coloc/syp_coloc/msp300_smFISH__spots.txt'\n",
    "\n",
    "# read the FQ file from the metadata header to get pixel size\n",
    "px_size = pd.read_csv(FQ_file, sep='\\t', header=10, nrows=2)\n",
    "px_xy = px_size['Pix-XY'].iloc[0]\n",
    "px_z = px_size['Pix-Z'].iloc[0]\n",
    "\n",
    "# read the FQ file from the data header to get centroid positions\n",
    "centroid_file = pd.read_csv(FQ_file, sep='\\t', header=18)\n",
    "\n",
    "# convert spatial dimensions to pixel dimensions\n",
    "centroid_file['X_pix'] = np.ceil(centroid_file['Pos_X'].div(float(px_xy)))\n",
    "centroid_file['Y_pix'] = np.ceil(centroid_file['Pos_Y'].div(float(px_xy)))\n",
    "centroid_file['Z_pix'] = np.ceil(centroid_file['Pos_Z'].div(float(px_z)))\n",
    "\n",
    "# create lists to store spot localisation compartment\n",
    "spot_loc = []\n",
    "\n",
    "# read image file and show data structure\n",
    "mask = tifffile.imread('/Users/joshtitlow/tmp/coloc/syp_coloc/DAPI_mask.tif')\n",
    "\n",
    "# index rows in the FQ.csv file to get file names and pixel coordinates\n",
    "for index, row in centroid_file.iterrows():\n",
    "    x = row['X_pix'] \n",
    "    y = row['Y_pix']\n",
    "    z = row['Z_pix']\n",
    "    loc = mask[z, y, x]\n",
    "    #print loc\n",
    "    if loc == 1:\n",
    "        spot_loc.append('nucleus')\n",
    "    if loc == 0:\n",
    "        spot_loc.append('cytosol')\n",
    "        \n",
    "# write basic statistics to centroid file\n",
    "centroid_file['spot_loc'] = spot_loc\n",
    "\n",
    "#centroid_file = pd.DataFrame(mean_pixels, columns=[\"column\"])\n",
    "centroid_file.to_csv('test_list.csv', index=False)"
   ]
  },
  {
   "cell_type": "code",
   "execution_count": 33,
   "metadata": {},
   "outputs": [
    {
     "name": "stdout",
     "output_type": "stream",
     "text": [
      "analysing file: 20171013_CS_2colorsmFISH_msp670_570_DAPI_HRP405_p1s3r.ome.tiff\n",
      "analysing file: 20171013_CS_2colorsmFISH_msp670_570_DAPI_HRP405_p1s4l.ome.tiff\n",
      "analysing file: 20171013_CS_2colorsmFISH_msp670_570_DAPI_HRP405_p1s4r.ome.tiff\n"
     ]
    },
    {
     "name": "stderr",
     "output_type": "stream",
     "text": [
      "//anaconda/lib/python2.7/site-packages/ipykernel/__main__.py:62: VisibleDeprecationWarning: using a non-integer number instead of an integer will result in an error in the future\n"
     ]
    }
   ],
   "source": [
    "# Determining localisation of spots within a mask\n",
    "#\n",
    "# -this code works on a whole directory with the following sub-directory structure\n",
    "# -indir (raw data images)\n",
    "#    -localisation_files (table of centroid coordinates, e.g., FISHQuant __spots.txt files)\n",
    "#    -masks (binary mask image files)\n",
    "\n",
    "import os\n",
    "import tifffile\n",
    "import numpy as np\n",
    "import pandas as pd\n",
    "from scipy import stats\n",
    "import matplotlib.pyplot as plt\n",
    "%matplotlib inline \n",
    "\n",
    "# specify directory of images\n",
    "indir = ('/Users/joshtitlow/tmp/smFISH_data/')\n",
    "infiles = os.listdir(indir)\n",
    "\n",
    "# create a df and a list to store filename and spot localisations\n",
    "df = pd.DataFrame()\n",
    "filename = []\n",
    "nuc_spots = []\n",
    "cytosol_spots = []\n",
    "\n",
    "# analyse each file in the directory\n",
    "for file in infiles: \n",
    "    if file.endswith('.tiff'):\n",
    "        if not file.startswith('._'):\n",
    "            \n",
    "            # specify the FQ centroid file and mask file\n",
    "            FQ_file = os.path.join(indir, 'localisation_files/', file.replace('.tiff', '__spots.txt'))\n",
    "            mask = tifffile.imread(os.path.join(indir, 'masks/', file.replace('.tiff', '.tif')))\n",
    "            \n",
    "            print 'analysing file:', file\n",
    "            \n",
    "            # append filename to list\n",
    "            filename.append(file)\n",
    "\n",
    "            # read the FQ file from the metadata header to get pixel size\n",
    "            px_size = pd.read_csv(FQ_file, sep='\\t', header=10, nrows=2)\n",
    "            px_xy = px_size['Pix-XY'].iloc[0]\n",
    "            px_z = px_size['Pix-Z'].iloc[0]\n",
    "\n",
    "            # read the FQ file from the data header to get centroid positions\n",
    "            centroid_file = pd.read_csv(FQ_file, sep='\\t', header=18)\n",
    "\n",
    "            # convert spatial dimensions to pixel dimensions\n",
    "            centroid_file['X_pix'] = np.ceil(centroid_file['Pos_X'].div(float(px_xy)))\n",
    "            centroid_file['Y_pix'] = np.ceil(centroid_file['Pos_Y'].div(float(px_xy)))\n",
    "            centroid_file['Z_pix'] = np.ceil(centroid_file['Pos_Z'].div(float(px_z)))\n",
    "\n",
    "            # create lists to store spot localisation compartment\n",
    "            spot_loc = []\n",
    "            loc_check = []\n",
    "\n",
    "            # index rows in the FQ.csv file to get file names and pixel coordinates\n",
    "            for index, row in centroid_file.iterrows():\n",
    "                x = row['X_pix'] \n",
    "                y = row['Y_pix']\n",
    "                z = row['Z_pix']\n",
    "                loc = mask[z, y, x]\n",
    "                \n",
    "                #print loc\n",
    "                if loc == 1:\n",
    "                    spot_loc.append('nucleus')\n",
    "                if loc == 0:\n",
    "                    spot_loc.append('cytosol')\n",
    "\n",
    "            # write basic statistics to centroid file\n",
    "            centroid_file['spot_loc'] = spot_loc\n",
    "\n",
    "            #centroid_file = pd.DataFrame(mean_pixels, columns=[\"column\"])\n",
    "            #centroid_file.to_csv('test_list.csv', index=False)\n",
    "                                   \n",
    "            nuc_spots.append(spot_loc.count('nucleus'))\n",
    "            cytosol_spots.append(spot_loc.count('cytosol'))\n",
    "            \n",
    "df['filename'] = filename\n",
    "df['nuc_spots'] = nuc_spots\n",
    "df['cytosol_spots'] = cytosol_spots\n",
    "df.to_csv('spot_locs.csv', index=False)"
   ]
  },
  {
   "cell_type": "code",
   "execution_count": 29,
   "metadata": {},
   "outputs": [
    {
     "data": {
      "text/plain": [
       "[44, 90, 63]"
      ]
     },
     "execution_count": 29,
     "metadata": {},
     "output_type": "execute_result"
    }
   ],
   "source": [
    "nuc_spots"
   ]
  },
  {
   "cell_type": "code",
   "execution_count": 34,
   "metadata": {},
   "outputs": [
    {
     "data": {
      "text/html": [
       "<div>\n",
       "<table border=\"1\" class=\"dataframe\">\n",
       "  <thead>\n",
       "    <tr style=\"text-align: right;\">\n",
       "      <th></th>\n",
       "      <th>filename</th>\n",
       "      <th>nuc_spots</th>\n",
       "      <th>cytosol_spots</th>\n",
       "    </tr>\n",
       "  </thead>\n",
       "  <tbody>\n",
       "    <tr>\n",
       "      <th>0</th>\n",
       "      <td>20171013_CS_2colorsmFISH_msp670_570_DAPI_HRP40...</td>\n",
       "      <td>44</td>\n",
       "      <td>547</td>\n",
       "    </tr>\n",
       "    <tr>\n",
       "      <th>1</th>\n",
       "      <td>20171013_CS_2colorsmFISH_msp670_570_DAPI_HRP40...</td>\n",
       "      <td>90</td>\n",
       "      <td>442</td>\n",
       "    </tr>\n",
       "    <tr>\n",
       "      <th>2</th>\n",
       "      <td>20171013_CS_2colorsmFISH_msp670_570_DAPI_HRP40...</td>\n",
       "      <td>63</td>\n",
       "      <td>396</td>\n",
       "    </tr>\n",
       "  </tbody>\n",
       "</table>\n",
       "</div>"
      ],
      "text/plain": [
       "                                            filename  nuc_spots  cytosol_spots\n",
       "0  20171013_CS_2colorsmFISH_msp670_570_DAPI_HRP40...         44            547\n",
       "1  20171013_CS_2colorsmFISH_msp670_570_DAPI_HRP40...         90            442\n",
       "2  20171013_CS_2colorsmFISH_msp670_570_DAPI_HRP40...         63            396"
      ]
     },
     "execution_count": 34,
     "metadata": {},
     "output_type": "execute_result"
    }
   ],
   "source": [
    "df"
   ]
  },
  {
   "cell_type": "code",
   "execution_count": null,
   "metadata": {},
   "outputs": [],
   "source": []
  }
 ],
 "metadata": {
  "kernelspec": {
   "display_name": "Python [conda env:anaconda]",
   "language": "python",
   "name": "conda-env-anaconda-py"
  },
  "language_info": {
   "codemirror_mode": {
    "name": "ipython",
    "version": 2
   },
   "file_extension": ".py",
   "mimetype": "text/x-python",
   "name": "python",
   "nbconvert_exporter": "python",
   "pygments_lexer": "ipython2",
   "version": "2.7.3"
  }
 },
 "nbformat": 4,
 "nbformat_minor": 2
}
