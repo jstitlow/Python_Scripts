{
 "cells": [
  {
   "cell_type": "code",
   "execution_count": 12,
   "metadata": {},
   "outputs": [
    {
     "name": "stdout",
     "output_type": "stream",
     "text": [
      "('converting:', '/Users/joshtitlow/tmp/AdultBrain_smFISH/cal/20190517_MB077c_myrSNAP_CamKIIYFP_YFP647n_JF549_viol_1h_p1lMB_cal.tif')\n",
      "\n",
      "\n"
     ]
    }
   ],
   "source": [
    "# Chromagnon bash\n",
    "#\n",
    "# -Runs chromagnon channel alignment tool on an entire directory\n",
    "#\n",
    "#\n",
    "\n",
    "import subprocess\n",
    "import pandas as pd\n",
    "import os\n",
    "\n",
    "# specify directory of images\n",
    "ref_dir = ('/Users/joshtitlow/tmp/AdultBrain_smFISH/cal/')\n",
    "ref_files = os.listdir(ref_dir)\n",
    "targ_dir = ('/Users/joshtitlow/tmp/AdultBrain_smFISH/aligned/')\n",
    "targ_files = os.listdir(targ_dir)\n",
    "\n",
    "for file in ref_files:\n",
    "\n",
    "    targ = os.path.join(targ_dir, file.replace('_cal.tif','.tif'))\n",
    "    ref = os.path.join(ref_dir, file)\n",
    "    print ('converting:', ref)\n",
    "    \n",
    "    export_command = \"chromagnon \"+targ+\" -R \"+ref+\"-E dv\"\n",
    "    popen = subprocess.Popen(export_command, shell=True, stdout=subprocess.PIPE)\n",
    "    out, err = popen.communicate()\n",
    "    output = out.split(':')[0]\n",
    "    print (out)\n",
    "    print (output)"
   ]
  },
  {
   "cell_type": "code",
   "execution_count": 8,
   "metadata": {},
   "outputs": [
    {
     "name": "stdout",
     "output_type": "stream",
     "text": [
      "usage: chromagnon target1 target2 -R reference1 reference2 [options]\n",
      "\n",
      "Chromagnon is an adaptive channel alignment program for fluorescnece\n",
      "microscope images. If no image file is supplied, a GUI will open to feed\n",
      "multiple files. If you supply image file, the program starts as a console\n",
      "program. When you have mutiple reference files, do like the 'usage':\n",
      "\n",
      "positional arguments:\n",
      "  targets               target images files\n",
      "\n",
      "optional arguments:\n",
      "  -h, --help            show this help message and exit\n",
      "  --version, -v         show program's version number and exit\n",
      "  --reference [REFERENCE [REFERENCE ...]], -R [REFERENCE [REFERENCE ...]]\n",
      "                        reference image or chromagnon files (required)\n",
      "  --local {None,Projection}, -l {None,Projection}\n",
      "                        choose from ['None', 'Projection'] (default=None)\n",
      "  --localMinWindow {30,60,120,240}, -w {30,60,120,240}\n",
      "                        choose from ['30', '60', '120', '240'] (default=60)\n",
      "  --maxShift MAXSHIFT, -s MAXSHIFT\n",
      "                        maximum um possibily misaligned in your system\n",
      "                        (default=5.00 um)\n",
      "  --not_crop_mergins, -c\n",
      "                        crop mergins after alignment (default=False; do crop\n",
      "                        mergins)\n",
      "  --average_references, -a\n",
      "                        average reference image (default=False)\n",
      "  --parm_suffix PARM_SUFFIX, -P PARM_SUFFIX\n",
      "                        suffix for the chromagnon files (default=None)\n",
      "  --img_suffix IMG_SUFFIX, -S IMG_SUFFIX\n",
      "                        suffix for the target files (default=_ALN)\n",
      "  --img_format {tif,dv,ome.tif}, -E {tif,dv,ome.tif}\n",
      "                        file extension for the target files, choose from\n",
      "                        ['tif', 'dv', 'ome.tif'] (default=tif)\n",
      "\n"
     ]
    }
   ],
   "source": [
    "import subprocess\n",
    "export_command = \"chromagnon -h\"\n",
    "popen = subprocess.Popen(export_command, shell=True, stdout=subprocess.PIPE)\n",
    "out, err = popen.communicate()\n",
    "#output = out.split(':')[0]\n",
    "print (out)"
   ]
  },
  {
   "cell_type": "code",
   "execution_count": null,
   "metadata": {},
   "outputs": [],
   "source": []
  }
 ],
 "metadata": {
  "kernelspec": {
   "display_name": "Python [default]",
   "language": "python",
   "name": "python2"
  },
  "language_info": {
   "codemirror_mode": {
    "name": "ipython",
    "version": 2
   },
   "file_extension": ".py",
   "mimetype": "text/x-python",
   "name": "python",
   "nbconvert_exporter": "python",
   "pygments_lexer": "ipython2",
   "version": "2.7.3"
  }
 },
 "nbformat": 4,
 "nbformat_minor": 2
}
