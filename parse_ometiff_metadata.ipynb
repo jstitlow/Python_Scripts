{
 "cells": [
  {
   "cell_type": "code",
   "execution_count": 258,
   "metadata": {},
   "outputs": [
    {
     "name": "stdout",
     "output_type": "stream",
     "text": [
      "405.00000000000006 561.0 488.00000000000006\n"
     ]
    }
   ],
   "source": [
    "# Parse OMETIFF metadata using Python XML tools\n",
    "#\n",
    "# TODO: \n",
    "# \n",
    "# - iterate over directory of screen data\n",
    "# - separate data into directories based on their channel arrangement and microscope\n",
    "# - find pixel size data in the xml structure\n",
    "\n",
    "from PIL import Image\n",
    "from xml.etree.ElementTree import fromstring, ElementTree # from https://stackoverflow.com/questions/33962620/elementtree-returns-element-instead-of-elementtree/44483259\n",
    "import os\n",
    "\n",
    "# specify directory of images\n",
    "indir = ('/Users/joshtitlow/tmp/coloc/')\n",
    "infiles = os.listdir(indir)\n",
    "\n",
    "# create a df and a list to store filename and channel info\n",
    "df = pd.DataFrame()\n",
    "filename = []\n",
    "ch1 = []\n",
    "ch2 = []\n",
    "ch3 = []\n",
    "ch4 = []\n",
    "\n",
    "# analyse each file in the directory\n",
    "for file in infiles: \n",
    "    if file.endswith('.tif'):\n",
    "        if not file.startswith('._'):\n",
    "            \n",
    "            # open the image and retrieve metadata\n",
    "            im = Image.open('/Users/joshtitlow/tmp/screen_data/382793.ome.tiff')\n",
    "            xml = str(im.tag[270])\n",
    "            print 'getting channel info from:', file\n",
    "            filename.append(file)\n",
    "            \n",
    "            # remove extra characters that mess up xml functions\n",
    "            xml = xml[3:-3]\n",
    "            \n",
    "            # parse the xml data\n",
    "            tree = ElementTree(fromstring(xml))\n",
    "            root = tree.getroot()\n",
    "            \n",
    "            # get channel information\n",
    "            for key, value in root[0][1][0].attrib.items():\n",
    "                #print key,':', value\n",
    "                if key == 'excitationwavelength':\n",
    "                    ch1 = value\n",
    "            for key, value in root[0][1][1].attrib.items():\n",
    "                #print key,':', value\n",
    "                if key == 'excitationwavelength':\n",
    "                    ch2 = value\n",
    "            for key, value in root[0][1][2].attrib.items():\n",
    "                #print key,':', value\n",
    "                if key == 'excitationwavelength':\n",
    "                    ch3 = value\n",
    "\n",
    "            for key, value in root[0][1][3].attrib.items():\n",
    "            #print key,':', value\n",
    "            if key == 'excitationwavelength':\n",
    "                ch4 = value\n",
    "\n",
    "            print ch1, ch2, ch3, ch4 \n"
   ]
  },
  {
   "cell_type": "code",
   "execution_count": 255,
   "metadata": {},
   "outputs": [
    {
     "name": "stdout",
     "output_type": "stream",
     "text": [
      "405.00000000000006 561.0 488.00000000000006\n"
     ]
    }
   ],
   "source": [
    "# This is the standard xml architecture\n",
    "# requires the extracted xml string to be saved as a document and parsed with ET.parse\n",
    "# because of issue with ET.fromstring, explained here: https://stackoverflow.com/questions/33962620/elementtree-returns-element-instead-of-elementtree/44483259\n",
    "\n",
    "from PIL import Image\n",
    "import xml.etree.cElementTree as ET\n",
    "\n",
    "im = Image.open('/Users/joshtitlow/tmp/screen_data/382793.ome.tiff')\n",
    "xml = str(im.tag[270])\n",
    "xml = xml[3:-3]\n",
    "xml_doc = '/Users/joshtitlow/Desktop/xml.xml'\n",
    "with open(xml_doc, 'w') as fp:\n",
    "    fp.write(xml)\n",
    "tree = ET.parse(xml_doc)\n",
    "#tree = ET.fromstring(xml)\n",
    "root = tree.getroot()\n",
    "\n",
    "for key, value in root[0][1][0].attrib.items():\n",
    "    #print key,':', value\n",
    "    if key == 'ExcitationWavelength':\n",
    "        ch1 = value\n",
    "for key, value in root[0][1][1].attrib.items():\n",
    "    #print key,':', value\n",
    "    if key == 'ExcitationWavelength':\n",
    "        ch2 = value\n",
    "for key, value in root[0][1][2].attrib.items():\n",
    "    #print key,':', value\n",
    "    if key == 'ExcitationWavelength':\n",
    "        ch3 = value\n",
    "        \n",
    "print ch1, ch2, ch3 "
   ]
  },
  {
   "cell_type": "code",
   "execution_count": 254,
   "metadata": {},
   "outputs": [
    {
     "data": {
      "text/plain": [
       "{'AcquisitionMode': 'LaserScanningConfocalMicroscopy',\n",
       " 'Color': '65535',\n",
       " 'EmissionWavelength': '446.12408800000003',\n",
       " 'EmissionWavelengthUnit': 'nm',\n",
       " 'ExcitationWavelength': '405.00000000000006',\n",
       " 'ExcitationWavelengthUnit': 'nm',\n",
       " 'ID': 'urn:lsid:export.openmicroscopy.org:Channel:7637023b-3f61-416e-97c6-be8ea199b758_820492:15525066',\n",
       " 'IlluminationType': 'Epifluorescence',\n",
       " 'Name': 'ChS1-T1',\n",
       " 'SamplesPerPixel': '1'}"
      ]
     },
     "execution_count": 254,
     "metadata": {},
     "output_type": "execute_result"
    }
   ],
   "source": [
    "root[0][1][0].attrib"
   ]
  },
  {
   "cell_type": "code",
   "execution_count": null,
   "metadata": {},
   "outputs": [],
   "source": [
    "for key, value in root[0][0][1][0].attrib.items():\n",
    "    #print key,':', value\n",
    "    if key == 'excitationwavelength':\n",
    "        ch1 = value\n",
    "for key, value in root[0][0][1][1].attrib.items():\n",
    "    #print key,':', value\n",
    "    if key == 'excitationwavelength':\n",
    "        ch2 = value\n",
    "for key, value in root[0][0][1][2].attrib.items():\n",
    "    #print key,':', value\n",
    "    if key == 'excitationwavelength':\n",
    "        ch3 = value\n",
    "print ch1, ch2, ch3 "
   ]
  },
  {
   "cell_type": "code",
   "execution_count": 237,
   "metadata": {},
   "outputs": [
    {
     "ename": "IndexError",
     "evalue": "child index out of range",
     "output_type": "error",
     "traceback": [
      "\u001b[0;31m---------------------------------------------------------------------------\u001b[0m",
      "\u001b[0;31mIndexError\u001b[0m                                Traceback (most recent call last)",
      "\u001b[0;32m<ipython-input-237-e2fb17db9668>\u001b[0m in \u001b[0;36m<module>\u001b[0;34m()\u001b[0m\n\u001b[0;32m----> 1\u001b[0;31m \u001b[0mroot\u001b[0m\u001b[0;34m[\u001b[0m\u001b[0;36m0\u001b[0m\u001b[0;34m]\u001b[0m\u001b[0;34m[\u001b[0m\u001b[0;36m1\u001b[0m\u001b[0;34m]\u001b[0m\u001b[0;34m[\u001b[0m\u001b[0;36m0\u001b[0m\u001b[0;34m]\u001b[0m\u001b[0;34m[\u001b[0m\u001b[0;36m0\u001b[0m\u001b[0;34m]\u001b[0m\u001b[0;34m[\u001b[0m\u001b[0;36m0\u001b[0m\u001b[0;34m]\u001b[0m\u001b[0;34m\u001b[0m\u001b[0m\n\u001b[0m",
      "\u001b[0;31mIndexError\u001b[0m: child index out of range"
     ]
    }
   ],
   "source": [
    "root[0][1][0][0][0]"
   ]
  },
  {
   "cell_type": "code",
   "execution_count": 244,
   "metadata": {},
   "outputs": [
    {
     "ename": "AttributeError",
     "evalue": "getitems",
     "output_type": "error",
     "traceback": [
      "\u001b[0;31m---------------------------------------------------------------------------\u001b[0m",
      "\u001b[0;31mAttributeError\u001b[0m                            Traceback (most recent call last)",
      "\u001b[0;32m<ipython-input-244-001dd0436003>\u001b[0m in \u001b[0;36m<module>\u001b[0;34m()\u001b[0m\n\u001b[1;32m      1\u001b[0m \u001b[0mtree\u001b[0m \u001b[0;34m=\u001b[0m \u001b[0mET\u001b[0m\u001b[0;34m.\u001b[0m\u001b[0mparse\u001b[0m\u001b[0;34m(\u001b[0m\u001b[0;34m'/Users/joshtitlow/Desktop/items.xml'\u001b[0m\u001b[0;34m)\u001b[0m\u001b[0;34m\u001b[0m\u001b[0m\n\u001b[1;32m      2\u001b[0m \u001b[0mroot\u001b[0m \u001b[0;34m=\u001b[0m \u001b[0mtree\u001b[0m\u001b[0;34m.\u001b[0m\u001b[0mgetroot\u001b[0m\u001b[0;34m(\u001b[0m\u001b[0;34m)\u001b[0m\u001b[0;34m\u001b[0m\u001b[0m\n\u001b[0;32m----> 3\u001b[0;31m \u001b[0;32mfor\u001b[0m \u001b[0mkey\u001b[0m\u001b[0;34m,\u001b[0m \u001b[0mvalue\u001b[0m \u001b[0;32min\u001b[0m \u001b[0mroot\u001b[0m\u001b[0;34m.\u001b[0m\u001b[0mgetitems\u001b[0m\u001b[0;34m:\u001b[0m\u001b[0;34m\u001b[0m\u001b[0m\n\u001b[0m\u001b[1;32m      4\u001b[0m     \u001b[0;32mprint\u001b[0m \u001b[0mkey\u001b[0m\u001b[0;34m,\u001b[0m \u001b[0;34m':'\u001b[0m\u001b[0;34m,\u001b[0m \u001b[0mvalue\u001b[0m\u001b[0;34m\u001b[0m\u001b[0m\n",
      "\u001b[0;31mAttributeError\u001b[0m: getitems"
     ]
    }
   ],
   "source": [
    "tree = ET.parse('/Users/joshtitlow/Desktop/items.xml')\n",
    "root = tree.getroot()\n",
    "for key, value in root.getitems:\n",
    "    print key, ':', value"
   ]
  },
  {
   "cell_type": "code",
   "execution_count": null,
   "metadata": {},
   "outputs": [],
   "source": []
  }
 ],
 "metadata": {
  "kernelspec": {
   "display_name": "Python [default]",
   "language": "python",
   "name": "python2"
  },
  "language_info": {
   "codemirror_mode": {
    "name": "ipython",
    "version": 2
   },
   "file_extension": ".py",
   "mimetype": "text/x-python",
   "name": "python",
   "nbconvert_exporter": "python",
   "pygments_lexer": "ipython2",
   "version": "2.7.3"
  }
 },
 "nbformat": 4,
 "nbformat_minor": 2
}
